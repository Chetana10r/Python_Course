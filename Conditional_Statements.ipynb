{
 "cells": [
  {
   "cell_type": "code",
   "execution_count": 2,
   "metadata": {},
   "outputs": [
    {
     "name": "stdout",
     "output_type": "stream",
     "text": [
      "You are allowed to vote in the elections.\n"
     ]
    }
   ],
   "source": [
    "##if statement\n",
    "\n",
    "age=20\n",
    "\n",
    "if age>=18:\n",
    "    print(\"You are allowed to vote in the elections.\")"
   ]
  },
  {
   "cell_type": "code",
   "execution_count": 4,
   "metadata": {},
   "outputs": [
    {
     "name": "stdout",
     "output_type": "stream",
     "text": [
      "You are minor.\n"
     ]
    }
   ],
   "source": [
    "##ELse\n",
    "\n",
    "age=16\n",
    "\n",
    "if age>=18:\n",
    "    print(\"You are eligible for voting.\")\n",
    "else:\n",
    "    print(\"You are minor.\")"
   ]
  },
  {
   "cell_type": "code",
   "execution_count": 5,
   "metadata": {},
   "outputs": [
    {
     "name": "stdout",
     "output_type": "stream",
     "text": [
      "You are adult.\n"
     ]
    }
   ],
   "source": [
    "##Elif\n",
    "\n",
    "age=20\n",
    "\n",
    "if age<13:\n",
    "    print(\"You are child\")\n",
    "elif age<18:\n",
    "    print(\"You are teenager\")\n",
    "else:\n",
    "    print(\"You are adult.\")"
   ]
  },
  {
   "cell_type": "code",
   "execution_count": 6,
   "metadata": {},
   "outputs": [
    {
     "name": "stdout",
     "output_type": "stream",
     "text": [
      "The number is positive.\n",
      "The number is even.\n"
     ]
    }
   ],
   "source": [
    "#Nested condition\n",
    "num=int(input(\"Enter the number: \"))\n",
    "\n",
    "\n",
    "if num>=0:\n",
    "    print(\"The number is positive.\")\n",
    "    if num%2==0:\n",
    "        print(\"The number is even.\")\n",
    "    else:\n",
    "        print(\"The number is odd.\")\n",
    "\n",
    "else:\n",
    "    print(\"The number is zero or negative.\")\n"
   ]
  },
  {
   "cell_type": "code",
   "execution_count": 7,
   "metadata": {},
   "outputs": [
    {
     "name": "stdout",
     "output_type": "stream",
     "text": [
      "2022 is not a leap year.\n"
     ]
    }
   ],
   "source": [
    "#Leap year example using nested condition\n",
    "\n",
    "year=int(input(\"Enter the year: \"))\n",
    "\n",
    "if year%4==0:\n",
    "    if year%100==0:\n",
    "        if year%400==0:\n",
    "            print(year,\"is a leap year.\")\n",
    "        else:\n",
    "            print(year,\"is not a leap year\")\n",
    "    else:\n",
    "        print(year,\"is a leap year.\")\n",
    "else:\n",
    "    print(year,\"is not a leap year.\")"
   ]
  },
  {
   "cell_type": "code",
   "execution_count": 9,
   "metadata": {},
   "outputs": [
    {
     "name": "stdout",
     "output_type": "stream",
     "text": [
      "Result:  9.0\n"
     ]
    }
   ],
   "source": [
    "#Simple calculator using nested if\n",
    "\n",
    "num1=float(input(\"Enter first number: \"))\n",
    "num2=float(input(\"Enter the second number: \"))\n",
    "operation=input(\"Enter opeartion(+,-,*,/): \")\n",
    "\n",
    "if operation == \"+\":\n",
    "    result= num1+num2\n",
    "\n",
    "elif operation == \"-\":\n",
    "    result= num1-num2\n",
    "    \n",
    "elif operation == \"*\":\n",
    "    result= num1*num2\n",
    "    \n",
    "elif operation == \"/\":\n",
    "    result= num1/num2\n",
    "    \n",
    "elif operation == \"+\":\n",
    "    if num2!=0:\n",
    "        result= num1/num2\n",
    "    else:\n",
    "        result= \"Error !! Division by zero.\"\n",
    "\n",
    "else:\n",
    "\n",
    "    result= \"Invalid Opeartion.\"\n",
    "\n",
    "print(\"Result: \",result)"
   ]
  },
  {
   "cell_type": "code",
   "execution_count": null,
   "metadata": {},
   "outputs": [],
   "source": []
  }
 ],
 "metadata": {
  "kernelspec": {
   "display_name": "venv",
   "language": "python",
   "name": "python3"
  },
  "language_info": {
   "codemirror_mode": {
    "name": "ipython",
    "version": 3
   },
   "file_extension": ".py",
   "mimetype": "text/x-python",
   "name": "python",
   "nbconvert_exporter": "python",
   "pygments_lexer": "ipython3",
   "version": "3.13.1"
  }
 },
 "nbformat": 4,
 "nbformat_minor": 2
}
