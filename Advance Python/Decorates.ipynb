{
 "cells": [
  {
   "cell_type": "markdown",
   "id": "40160373",
   "metadata": {},
   "source": [
    "Decorators"
   ]
  },
  {
   "cell_type": "markdown",
   "id": "f0244190",
   "metadata": {},
   "source": [
    "Decorators are a powerful and flexible feature in Python that allows you to modify the behaviour of a function or class method. They are commonly used to add functionality to functions ore methods without modifying their actual code.This lesson covers the basics of decorators, including how to create and use them."
   ]
  },
  {
   "cell_type": "markdown",
   "id": "e78a36f4",
   "metadata": {},
   "source": [
    "#Function copy\n",
    "#Closures\n",
    "#Decorators\n"
   ]
  },
  {
   "cell_type": "code",
   "execution_count": 1,
   "id": "37cffb02",
   "metadata": {},
   "outputs": [
    {
     "name": "stdout",
     "output_type": "stream",
     "text": [
      "Welcome to the advanced python course.\n"
     ]
    }
   ],
   "source": [
    "#Function Copy\n",
    "\n",
    "def welcome():\n",
    "    print(\"Welcome to the advanced python course.\")\n",
    "\n",
    "welcome()"
   ]
  },
  {
   "cell_type": "code",
   "execution_count": 3,
   "id": "916862ab",
   "metadata": {},
   "outputs": [
    {
     "name": "stdout",
     "output_type": "stream",
     "text": [
      "Welcome to the advanced python course.\n"
     ]
    }
   ],
   "source": [
    "wel=welcome\n",
    "wel()\n",
    "del welcome"
   ]
  },
  {
   "cell_type": "code",
   "execution_count": 4,
   "id": "4c924fb0",
   "metadata": {},
   "outputs": [
    {
     "name": "stdout",
     "output_type": "stream",
     "text": [
      "Welcome to the advanced python course.\n"
     ]
    }
   ],
   "source": [
    "wel()"
   ]
  },
  {
   "cell_type": "code",
   "execution_count": 17,
   "id": "fb962ccc",
   "metadata": {},
   "outputs": [],
   "source": [
    "#CLosures functions\n",
    "\n",
    "def main_welcome(msg):\n",
    "    def sub_welcome_method():\n",
    "        print(\"Welcome to advanced python code.\")\n",
    "        print(msg)\n",
    "        print(\"Pleasee learn these concepts properly\")\n",
    "    return sub_welcome_method()"
   ]
  },
  {
   "cell_type": "code",
   "execution_count": 18,
   "id": "b74f7e77",
   "metadata": {},
   "outputs": [
    {
     "name": "stdout",
     "output_type": "stream",
     "text": [
      "Welcome to advanced python code.\n",
      "Welcome Everyone\n",
      "Pleasee learn these concepts properly\n"
     ]
    }
   ],
   "source": [
    "main_welcome(\"Welcome Everyone\")"
   ]
  },
  {
   "cell_type": "code",
   "execution_count": 23,
   "id": "a7abd1fc",
   "metadata": {},
   "outputs": [],
   "source": [
    "#CLosures functions\n",
    "\n",
    "def main_welcome(func):\n",
    "\n",
    "    def sub_welcome_method():\n",
    "        print(\"Welcome to advanced python code.\")\n",
    "        func(\"Tutorial\")\n",
    "        print(\"Pleasee learn these concepts properly\")\n",
    "    return sub_welcome_method()"
   ]
  },
  {
   "cell_type": "code",
   "execution_count": 24,
   "id": "970c6969",
   "metadata": {},
   "outputs": [
    {
     "name": "stdout",
     "output_type": "stream",
     "text": [
      "Welcome to advanced python code.\n",
      "Tutorial\n",
      "Pleasee learn these concepts properly\n"
     ]
    }
   ],
   "source": [
    "main_welcome(print)"
   ]
  },
  {
   "cell_type": "code",
   "execution_count": 30,
   "id": "6efad234",
   "metadata": {},
   "outputs": [],
   "source": [
    "#CLosures functions\n",
    "\n",
    "def main_welcome(func,lst):\n",
    "\n",
    "    def sub_welcome_method():\n",
    "        print(\"Welcome to advanced python code.\")\n",
    "        print(func(lst))\n",
    "        print(\"Pleasee learn these concepts properly\")\n",
    "    return sub_welcome_method()"
   ]
  },
  {
   "cell_type": "code",
   "execution_count": 31,
   "id": "7ff90d83",
   "metadata": {},
   "outputs": [
    {
     "name": "stdout",
     "output_type": "stream",
     "text": [
      "Welcome to advanced python code.\n",
      "6\n",
      "Pleasee learn these concepts properly\n"
     ]
    }
   ],
   "source": [
    "main_welcome(len,[1,2,3,4,5,6])"
   ]
  },
  {
   "cell_type": "markdown",
   "id": "faab41cd",
   "metadata": {},
   "source": [
    "##Decorator"
   ]
  },
  {
   "cell_type": "code",
   "execution_count": 32,
   "id": "d1e4cd3b",
   "metadata": {},
   "outputs": [],
   "source": [
    "#CLosures functions\n",
    "\n",
    "def main_welcome(func):\n",
    "\n",
    "    def sub_welcome_method():\n",
    "        print(\"Welcome to advanced python code.\")\n",
    "        func()\n",
    "        print(\"Pleasee learn these concepts properly\")\n",
    "    return sub_welcome_method()"
   ]
  },
  {
   "cell_type": "code",
   "execution_count": 34,
   "id": "b5704284",
   "metadata": {},
   "outputs": [
    {
     "name": "stdout",
     "output_type": "stream",
     "text": [
      "This is a advanced python course.\n"
     ]
    }
   ],
   "source": [
    "def course_introduction():\n",
    "    print(\"This is a advanced python course.\")\n",
    "\n",
    "course_introduction()"
   ]
  },
  {
   "cell_type": "code",
   "execution_count": 35,
   "id": "325e400b",
   "metadata": {},
   "outputs": [
    {
     "name": "stdout",
     "output_type": "stream",
     "text": [
      "Welcome to advanced python code.\n",
      "This is a advanced python course.\n",
      "Pleasee learn these concepts properly\n"
     ]
    }
   ],
   "source": [
    "main_welcome(course_introduction)"
   ]
  },
  {
   "cell_type": "code",
   "execution_count": 37,
   "id": "137645a5",
   "metadata": {},
   "outputs": [
    {
     "name": "stdout",
     "output_type": "stream",
     "text": [
      "Welcome to advanced python code.\n",
      "This is an advanced python course\n",
      "Pleasee learn these concepts properly\n"
     ]
    }
   ],
   "source": [
    "@main_welcome\n",
    "def course_introduction():\n",
    "    print(\"This is an advanced python course\")\n"
   ]
  },
  {
   "cell_type": "code",
   "execution_count": 39,
   "id": "5602bbaa",
   "metadata": {},
   "outputs": [],
   "source": [
    "## Decorator\n",
    "\n",
    "def my_decorator(func):\n",
    "    def wrapper():\n",
    "        print(\"something is happening before the functin is called.\")\n",
    "        func()\n",
    "        print(\"Something is happening after the function is called.\")\n",
    "    return wrapper"
   ]
  },
  {
   "cell_type": "code",
   "execution_count": 40,
   "id": "a99c52b1",
   "metadata": {},
   "outputs": [],
   "source": [
    "@my_decorator\n",
    "def say_hello():\n",
    "    print(\"Hello\")"
   ]
  },
  {
   "cell_type": "code",
   "execution_count": 41,
   "id": "9788bfad",
   "metadata": {},
   "outputs": [
    {
     "name": "stdout",
     "output_type": "stream",
     "text": [
      "something is happening before the functin is called.\n",
      "Hello\n",
      "Something is happening after the function is called.\n"
     ]
    }
   ],
   "source": [
    "say_hello()"
   ]
  },
  {
   "cell_type": "code",
   "execution_count": 46,
   "id": "45342642",
   "metadata": {},
   "outputs": [],
   "source": [
    "#Decorators with arguments\n",
    "\n",
    "def repeat(n):\n",
    "    def decorator(func):\n",
    "        def wrapper(*args, **kwargs):\n",
    "            for _ in range(n):\n",
    "                func(*args, **kwargs)\n",
    "        return wrapper\n",
    "    return decorator"
   ]
  },
  {
   "cell_type": "code",
   "execution_count": 47,
   "id": "dfef6723",
   "metadata": {},
   "outputs": [],
   "source": [
    "@repeat(3)\n",
    "def say_hello():\n",
    "    print(\"hello\")"
   ]
  },
  {
   "cell_type": "code",
   "execution_count": 48,
   "id": "f1dbe146",
   "metadata": {},
   "outputs": [
    {
     "name": "stdout",
     "output_type": "stream",
     "text": [
      "hello\n",
      "hello\n",
      "hello\n"
     ]
    }
   ],
   "source": [
    "say_hello()"
   ]
  },
  {
   "cell_type": "markdown",
   "id": "b92b7c3d",
   "metadata": {},
   "source": [
    "Conclusion"
   ]
  },
  {
   "cell_type": "markdown",
   "id": "f6ca8c77",
   "metadata": {},
   "source": [
    "Decorators are a powerful tool in python for extending and modifying the behaviour of functions and methods. They provide a clean and readable way to add functionality such as logging,timing,access control, and more without changing the original code. Understanding and using decorators effectively can significantly enhance your python progarmming skills."
   ]
  }
 ],
 "metadata": {
  "kernelspec": {
   "display_name": "base",
   "language": "python",
   "name": "python3"
  },
  "language_info": {
   "codemirror_mode": {
    "name": "ipython",
    "version": 3
   },
   "file_extension": ".py",
   "mimetype": "text/x-python",
   "name": "python",
   "nbconvert_exporter": "python",
   "pygments_lexer": "ipython3",
   "version": "3.12.7"
  }
 },
 "nbformat": 4,
 "nbformat_minor": 5
}
