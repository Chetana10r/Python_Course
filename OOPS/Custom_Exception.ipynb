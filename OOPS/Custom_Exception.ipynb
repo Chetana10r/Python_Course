{
 "cells": [
  {
   "cell_type": "markdown",
   "id": "5e99e486",
   "metadata": {},
   "source": [
    "Custom Exception (Raise and Throw an exception)"
   ]
  },
  {
   "cell_type": "code",
   "execution_count": 1,
   "id": "d0b8806c",
   "metadata": {},
   "outputs": [],
   "source": [
    "class Error(Exception):\n",
    "    pass\n",
    "\n",
    "class dobException(Error):\n",
    "    pass"
   ]
  },
  {
   "cell_type": "code",
   "execution_count": 7,
   "id": "e5986f01",
   "metadata": {},
   "outputs": [
    {
     "name": "stdout",
     "output_type": "stream",
     "text": [
      "Age is valid...so u can apply for the exams.\n"
     ]
    }
   ],
   "source": [
    "year= int(input(\"Enter the dob: \"))\n",
    "age=2025-year\n",
    "\n",
    "try:\n",
    "    if age<=30 and age>=20:\n",
    "        print(\"Age is valid...so u can apply for the exams.\")\n",
    "\n",
    "    else:\n",
    "        raise dobException\n",
    "\n",
    "except dobException:\n",
    "    print(\"Sorry, your age is not valid.\")"
   ]
  }
 ],
 "metadata": {
  "kernelspec": {
   "display_name": "base",
   "language": "python",
   "name": "python3"
  },
  "language_info": {
   "codemirror_mode": {
    "name": "ipython",
    "version": 3
   },
   "file_extension": ".py",
   "mimetype": "text/x-python",
   "name": "python",
   "nbconvert_exporter": "python",
   "pygments_lexer": "ipython3",
   "version": "3.12.7"
  }
 },
 "nbformat": 4,
 "nbformat_minor": 5
}
