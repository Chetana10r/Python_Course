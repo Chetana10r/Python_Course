{
 "cells": [
  {
   "cell_type": "markdown",
   "id": "cdd68beb",
   "metadata": {},
   "source": [
    "Polymorphism"
   ]
  },
  {
   "cell_type": "markdown",
   "id": "a8ab4d6c",
   "metadata": {},
   "source": [
    "Polymorphism is a core concept in Object-Oriented Programming(OOP) that allows objects of different classes to be treated as objects of a common superclass. It provides a way to perform asingle action in different forms.Polymorphism is typically achieved through method overriding and interfaces."
   ]
  },
  {
   "cell_type": "markdown",
   "id": "30288599",
   "metadata": {},
   "source": [
    "Method Overrding"
   ]
  },
  {
   "cell_type": "markdown",
   "id": "6b13f490",
   "metadata": {},
   "source": [
    "Method overriding allows a child class to provide a specific implementation of a method that is already defined in its parent class."
   ]
  },
  {
   "cell_type": "code",
   "execution_count": 4,
   "id": "1603658a",
   "metadata": {},
   "outputs": [
    {
     "name": "stdout",
     "output_type": "stream",
     "text": [
      "Dog speaks Woof\n",
      "Cat speaks Meow\n",
      "Woof\n"
     ]
    }
   ],
   "source": [
    "#Base Class\n",
    "class Animal:\n",
    "    def speak(self):\n",
    "        return \"Animal makes a sound\"\n",
    "\n",
    "#Derived Class1\n",
    "class Dog(Animal):\n",
    "    def speak(self):\n",
    "        return \"Woof\"\n",
    "\n",
    "#Derived Class2\n",
    "class Cat(Animal):\n",
    "    def speak(self):\n",
    "        return \"Meow\"\n",
    "\n",
    "#Function that demonstrates polymorphism\n",
    "def animal_speak(animal):\n",
    "    print(animal.speak())\n",
    "\n",
    "#Test the classes\n",
    "dog1=Dog()\n",
    "cat1=Cat()\n",
    "print(\"Dog speaks\",dog1.speak())\n",
    "print(\"Cat speaks\",cat1.speak())\n",
    "animal_speak(dog1)\n"
   ]
  },
  {
   "cell_type": "markdown",
   "id": "fd7963f9",
   "metadata": {},
   "source": [
    "Polymorphism with Functions and methods"
   ]
  },
  {
   "cell_type": "code",
   "execution_count": 8,
   "id": "a1d98dcd",
   "metadata": {},
   "outputs": [
    {
     "name": "stdout",
     "output_type": "stream",
     "text": [
      "The area is 20\n",
      "The area is 28.259999999999998\n"
     ]
    }
   ],
   "source": [
    "#Base Class\n",
    "\n",
    "class Shape:\n",
    "    def area(self):\n",
    "        return \"The area of the figure.\"\n",
    "    \n",
    "#Derived class1\n",
    "\n",
    "class Rectangle(Shape):\n",
    "    def __init__(self, width,height):\n",
    "        self.width=width\n",
    "        self.height=height\n",
    "\n",
    "    def area(self):\n",
    "        return self.width*self.height\n",
    "    \n",
    "#Derived class2\n",
    "\n",
    "class Circle(Shape):\n",
    "    def __init__(self,radius):\n",
    "        self.radius=radius\n",
    "\n",
    "    def area(self):\n",
    "        return 3.14*self.radius*self.radius\n",
    "    \n",
    "#Function that demonstrates polymorphism\n",
    "\n",
    "def print_area(Shape):\n",
    "    print(f\"The area is {Shape.area()}\")\n",
    "\n",
    "rectangle=Rectangle(4,5)\n",
    "circle=Circle(3)\n",
    "\n",
    "print_area(rectangle)\n",
    "print_area(circle)\n"
   ]
  },
  {
   "cell_type": "markdown",
   "id": "e3270419",
   "metadata": {},
   "source": [
    "Polymorphism with abstract base classes"
   ]
  },
  {
   "cell_type": "markdown",
   "id": "d047dedf",
   "metadata": {},
   "source": [
    "ABCs(Abstract base classes) are used to define common methods for a group of related objects. They can enforce that derived classes implement particular methods, promoting consistency across different implementations."
   ]
  },
  {
   "cell_type": "code",
   "execution_count": 3,
   "id": "115c0f35",
   "metadata": {},
   "outputs": [
    {
     "name": "stdout",
     "output_type": "stream",
     "text": [
      "Car enginer started\n"
     ]
    }
   ],
   "source": [
    "from abc import ABC,abstractmethod\n",
    "\n",
    "##DEFINE AN ABSTRACT CLASS\n",
    "\n",
    "class Vehicle(ABC):\n",
    "    @abstractmethod\n",
    "    def start_engine(self):\n",
    "        pass\n",
    "\n",
    "#Derived Class1\n",
    "class Car(Vehicle):\n",
    "    def start_engine(self):\n",
    "        return \"Car enginer started\"\n",
    "    \n",
    "#Derived Class2\n",
    "class Motorcycle(Vehicle):\n",
    "    def start_engine(self):\n",
    "        return \"Motorcycle engine started\"\n",
    "    \n",
    "#Function that demonstrates polymorphism\n",
    "def start_vehicle(vehicle):\n",
    "    print(vehicle.start_engine())\n",
    "    \n",
    "#Create objects of the class and motorcycle\n",
    "\n",
    "car=Car()\n",
    "motorcycle=Motorcycle()\n",
    "\n",
    "start_vehicle(car)"
   ]
  },
  {
   "cell_type": "markdown",
   "id": "92d5ab81",
   "metadata": {},
   "source": [
    "Conclusion"
   ]
  },
  {
   "cell_type": "markdown",
   "id": "e56348c3",
   "metadata": {},
   "source": [
    "Polymorphism is a powerful feature of OOP that allows for flexibility and integration in code design. It enables a simgle function to handle objects of different classes, each with its own implementation of a method. By understanding and applying polymorphism, you can create more extensible and maintainable object-oriented programs."
   ]
  }
 ],
 "metadata": {
  "kernelspec": {
   "display_name": "base",
   "language": "python",
   "name": "python3"
  },
  "language_info": {
   "codemirror_mode": {
    "name": "ipython",
    "version": 3
   },
   "file_extension": ".py",
   "mimetype": "text/x-python",
   "name": "python",
   "nbconvert_exporter": "python",
   "pygments_lexer": "ipython3",
   "version": "3.12.7"
  }
 },
 "nbformat": 4,
 "nbformat_minor": 5
}
