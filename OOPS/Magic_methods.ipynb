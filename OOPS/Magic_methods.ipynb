{
 "cells": [
  {
   "cell_type": "markdown",
   "id": "2075c697",
   "metadata": {},
   "source": [
    "Magic methods in Python, also known as dunder methods (double underscore nethods), are special methods that start and end with double underscores. These methods enable you to define the behaviour of objects for built-in operations, such as arithmetic operations, comparsions and more."
   ]
  },
  {
   "cell_type": "markdown",
   "id": "431150eb",
   "metadata": {},
   "source": [
    "Magic Methods"
   ]
  },
  {
   "cell_type": "markdown",
   "id": "5577abad",
   "metadata": {},
   "source": [
    "Magic methods are predefined methods in python that you can override to change the behaviour of your objects. Some common magic methods include:"
   ]
  },
  {
   "cell_type": "code",
   "execution_count": 1,
   "id": "355c70d3",
   "metadata": {},
   "outputs": [
    {
     "data": {
      "text/plain": [
       "'__init__:Initializes a new instance of a class.\\n__str__:Returns a string representation of an object.\\n__repr__:Returns am official string representation of an object.\\n__len__:Returns the length of an object.\\n__getitem__:gets an item from a container.\\n__setitem__:Sets an item in a container.'"
      ]
     },
     "execution_count": 1,
     "metadata": {},
     "output_type": "execute_result"
    }
   ],
   "source": [
    "'''__init__:Initializes a new instance of a class.\n",
    "__str__:Returns a string representation of an object.\n",
    "__repr__:Returns am official string representation of an object.\n",
    "__len__:Returns the length of an object.\n",
    "__getitem__:gets an item from a container.\n",
    "__setitem__:Sets an item in a container.'''"
   ]
  },
  {
   "cell_type": "code",
   "execution_count": 3,
   "id": "981793cc",
   "metadata": {},
   "outputs": [
    {
     "data": {
      "text/plain": [
       "['__class__',\n",
       " '__delattr__',\n",
       " '__dict__',\n",
       " '__dir__',\n",
       " '__doc__',\n",
       " '__eq__',\n",
       " '__format__',\n",
       " '__ge__',\n",
       " '__getattribute__',\n",
       " '__getstate__',\n",
       " '__gt__',\n",
       " '__hash__',\n",
       " '__init__',\n",
       " '__init_subclass__',\n",
       " '__le__',\n",
       " '__lt__',\n",
       " '__module__',\n",
       " '__ne__',\n",
       " '__new__',\n",
       " '__reduce__',\n",
       " '__reduce_ex__',\n",
       " '__repr__',\n",
       " '__setattr__',\n",
       " '__sizeof__',\n",
       " '__str__',\n",
       " '__subclasshook__',\n",
       " '__weakref__']"
      ]
     },
     "execution_count": 3,
     "metadata": {},
     "output_type": "execute_result"
    }
   ],
   "source": [
    "class Person:\n",
    "    pass\n",
    "\n",
    "person=Person()\n",
    "dir(person)"
   ]
  },
  {
   "cell_type": "code",
   "execution_count": 4,
   "id": "0f0d773b",
   "metadata": {},
   "outputs": [
    {
     "name": "stdout",
     "output_type": "stream",
     "text": [
      "<__main__.Person object at 0x00000207E6C5A060>\n"
     ]
    }
   ],
   "source": [
    "print(person)"
   ]
  },
  {
   "cell_type": "code",
   "execution_count": 6,
   "id": "c79c7061",
   "metadata": {},
   "outputs": [
    {
     "name": "stdout",
     "output_type": "stream",
     "text": [
      "<__main__.Person object at 0x00000207E6C2E390>\n"
     ]
    }
   ],
   "source": [
    "##basics methods\n",
    "\n",
    "class Person:\n",
    "    def __init__(self,name,age):\n",
    "        self.name=name\n",
    "        self.age=age\n",
    "\n",
    "person=Person(\"chetana\",21)\n",
    "print(person)\n",
    "\n"
   ]
  },
  {
   "cell_type": "code",
   "execution_count": 9,
   "id": "017b18b8",
   "metadata": {},
   "outputs": [
    {
     "name": "stdout",
     "output_type": "stream",
     "text": [
      "chetana,21 years old\n",
      "Person(name=chetana,age=21)\n"
     ]
    }
   ],
   "source": [
    "##basics methods\n",
    "\n",
    "class Person:\n",
    "    def __init__(self,name,age):\n",
    "        self.name=name\n",
    "        self.age=age\n",
    "\n",
    "    def __str__(self):\n",
    "        return f\"{self.name},{self.age} years old\"\n",
    "\n",
    "    def __repr__(self):\n",
    "        return f\"Person(name={self.name},age={self.age})\"\n",
    "\n",
    "person=Person(\"chetana\",21)\n",
    "print(person)\n",
    "print(repr(person))\n"
   ]
  }
 ],
 "metadata": {
  "kernelspec": {
   "display_name": "base",
   "language": "python",
   "name": "python3"
  },
  "language_info": {
   "codemirror_mode": {
    "name": "ipython",
    "version": 3
   },
   "file_extension": ".py",
   "mimetype": "text/x-python",
   "name": "python",
   "nbconvert_exporter": "python",
   "pygments_lexer": "ipython3",
   "version": "3.12.7"
  }
 },
 "nbformat": 4,
 "nbformat_minor": 5
}
