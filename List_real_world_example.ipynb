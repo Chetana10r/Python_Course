{
 "cells": [
  {
   "cell_type": "markdown",
   "metadata": {},
   "source": [
    "Example 1. Manage a to do list"
   ]
  },
  {
   "cell_type": "markdown",
   "metadata": {},
   "source": [
    "* Create a to do list to kep trackof tasks"
   ]
  },
  {
   "cell_type": "code",
   "execution_count": 2,
   "metadata": {},
   "outputs": [
    {
     "name": "stdout",
     "output_type": "stream",
     "text": [
      "Don't forget to pay the utility bills.\n",
      "To do list remaining\n",
      "-Buy Groceries\n",
      "-Pay Bills\n",
      "-schedule meetng\n",
      "-Go for a run\n"
     ]
    }
   ],
   "source": [
    "to_do_list=[\"Buy Groceries\",\"Clean the house\",\"Pay Bills\"]\n",
    "\n",
    "#Adding to task\n",
    "\n",
    "to_do_list.append(\"schedule meetng\")\n",
    "to_do_list.append(\"Go for a run\")\n",
    "\n",
    "#Removing a comppleted task\n",
    "\n",
    "to_do_list.remove(\"Clean the house\")\n",
    "\n",
    "#Checking if a task is in the list\n",
    "\n",
    "if \"Pay Bills\" in to_do_list:\n",
    "    print(\"Don't forget to pay the utility bills.\")\n",
    "\n",
    "print(\"To do list remaining\")\n",
    "for task in to_do_list:\n",
    "    print(f\"-{task}\")\n"
   ]
  },
  {
   "cell_type": "markdown",
   "metadata": {},
   "source": [
    "Example 2: Oraganizing the Student Grades"
   ]
  },
  {
   "cell_type": "markdown",
   "metadata": {},
   "source": [
    "* Create a list to store and calculate the average grades for students."
   ]
  },
  {
   "cell_type": "code",
   "execution_count": 4,
   "metadata": {},
   "outputs": [
    {
     "name": "stdout",
     "output_type": "stream",
     "text": [
      "Average Grade: 88.00\n",
      "Highest Grade: 95\n",
      "Lowest Grade: 78\n"
     ]
    }
   ],
   "source": [
    "#Organizing student grades\n",
    "\n",
    "grades=[85,92,78,90,88]\n",
    "\n",
    "#Adding new grade\n",
    "\n",
    "grades.append(95)\n",
    "\n",
    "#Calculating the average grade\n",
    "\n",
    "Average_grade=sum(grades)/len(grades)\n",
    "print(f\"Average Grade: {Average_grade:.2f}\")\n",
    "\n",
    "#Finding the highest and lowest grades\n",
    "\n",
    "highest_grade=max(grades)\n",
    "lowest_grade=min(grades)\n",
    "\n",
    "print(f\"Highest Grade: {highest_grade}\")\n",
    "print(f\"Lowest Grade: {lowest_grade}\")\n"
   ]
  },
  {
   "cell_type": "markdown",
   "metadata": {},
   "source": [
    "3.Managing An Inventory"
   ]
  },
  {
   "cell_type": "markdown",
   "metadata": {},
   "source": [
    "* Use a list to manage inventory items in a store\n"
   ]
  },
  {
   "cell_type": "code",
   "execution_count": 9,
   "metadata": {},
   "outputs": [
    {
     "name": "stdout",
     "output_type": "stream",
     "text": [
      "oranges are in stock.\n",
      "Inventory List: \n",
      "- apples\n",
      "- oranges\n",
      "- graphes\n",
      "- strawberries\n"
     ]
    }
   ],
   "source": [
    "#Managing an inventory\n",
    "inventory=[\"apples\",\"bananas\",'oranges',\"graphes\"]\n",
    "\n",
    "#Adding a new item\n",
    "inventory.append(\"strawberries\")\n",
    "\n",
    "#Removing an item that is out of stock\n",
    "inventory.remove(\"bananas\")\n",
    "\n",
    "#Checking if an item is in stock\n",
    "\n",
    "item=\"oranges\"\n",
    "if item in inventory:\n",
    "    print(f\"{item} are in stock.\")\n",
    "else:\n",
    "    print(f\"{item} are out of stock.\")\n",
    "\n",
    "#printing the inventory\n",
    "\n",
    "print(\"Inventory List: \")\n",
    "for item in inventory:\n",
    "    print(f\"- {item}\")"
   ]
  },
  {
   "cell_type": "markdown",
   "metadata": {},
   "source": [
    "Example 4: Collecting User feedback"
   ]
  },
  {
   "cell_type": "markdown",
   "metadata": {},
   "source": [
    "* Use a list to collect and analyze user feedback."
   ]
  },
  {
   "cell_type": "code",
   "execution_count": 12,
   "metadata": {},
   "outputs": [
    {
     "name": "stdout",
     "output_type": "stream",
     "text": [
      "Positive Feedback Count: 2\n",
      "User Feedback: \n",
      "- Great Service!\n",
      "- Very Startisfied\n",
      "- Could be Better\n",
      "- Excellent Experience\n",
      "- Not happy with the service\n"
     ]
    }
   ],
   "source": [
    "#Collecting user Feedback\n",
    "\n",
    "feedback= [\"Great Service!\",\"Very Startisfied\",\"Could be Better\", \"Excellent Experience\"]\n",
    "\n",
    "#Adding new feedback\n",
    "\n",
    "feedback.append(\"Not happy with the service\")\n",
    "\n",
    "#Counting specific feedback\n",
    "\n",
    "positive_feedback_count= sum(1 for comment in feedback if \"great\" in comment.lower() or \"excellent\" in comment.lower())\n",
    "print(f\"Positive Feedback Count: {positive_feedback_count}\")\n",
    "\n",
    "#Printing all feedback\n",
    "\n",
    "print(\"User Feedback: \")\n",
    "for comment in feedback:\n",
    "    print(f\"- {comment}\")"
   ]
  }
 ],
 "metadata": {
  "kernelspec": {
   "display_name": "Python 3",
   "language": "python",
   "name": "python3"
  },
  "language_info": {
   "codemirror_mode": {
    "name": "ipython",
    "version": 3
   },
   "file_extension": ".py",
   "mimetype": "text/x-python",
   "name": "python",
   "nbconvert_exporter": "python",
   "pygments_lexer": "ipython3",
   "version": "3.11.11"
  }
 },
 "nbformat": 4,
 "nbformat_minor": 2
}
