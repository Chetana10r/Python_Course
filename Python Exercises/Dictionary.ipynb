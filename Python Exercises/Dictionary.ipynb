{
 "cells": [
  {
   "cell_type": "code",
   "execution_count": 1,
   "id": "7a4bdfb4",
   "metadata": {},
   "outputs": [
    {
     "name": "stdout",
     "output_type": "stream",
     "text": [
      "{'Id': 1, 'Name': 'abc', 'salary': 5000}\n"
     ]
    }
   ],
   "source": [
    "Emp={\"Id\":1,\"Name\":\"abc\",\"salary\":5000}\n",
    "print(Emp)"
   ]
  },
  {
   "cell_type": "code",
   "execution_count": 2,
   "id": "e8cbf8b6",
   "metadata": {},
   "outputs": [
    {
     "name": "stdout",
     "output_type": "stream",
     "text": [
      "Employee Name:  abc\n"
     ]
    }
   ],
   "source": [
    "print(\"Employee Name: \",Emp[\"Name\"])"
   ]
  },
  {
   "cell_type": "code",
   "execution_count": 3,
   "id": "c8bce551",
   "metadata": {},
   "outputs": [
    {
     "name": "stdout",
     "output_type": "stream",
     "text": [
      "5000\n"
     ]
    }
   ],
   "source": [
    "print(Emp.get(\"salary\"))"
   ]
  },
  {
   "cell_type": "code",
   "execution_count": 4,
   "id": "35a4651e",
   "metadata": {},
   "outputs": [
    {
     "name": "stdout",
     "output_type": "stream",
     "text": [
      "{'rollno': [10, 20, 30], 'name': ['arya', 'chetana', 'yami'], 'class': ['fy', 'sy', 'ty']}\n"
     ]
    }
   ],
   "source": [
    "d={\"rollno\":[10,20,30],\"name\":[\"arya\",\"chetana\",\"yami\"],\"class\":['fy','sy','ty']}\n",
    "print(d)"
   ]
  },
  {
   "cell_type": "code",
   "execution_count": 7,
   "id": "121d4a34",
   "metadata": {},
   "outputs": [
    {
     "name": "stdout",
     "output_type": "stream",
     "text": [
      "[10, 20, 30]\n"
     ]
    }
   ],
   "source": [
    "print(d.get(\"rollno\"))"
   ]
  },
  {
   "cell_type": "code",
   "execution_count": 10,
   "id": "2e6531d0",
   "metadata": {},
   "outputs": [
    {
     "name": "stdout",
     "output_type": "stream",
     "text": [
      "dict_keys(['Id', 'Name', 'salary'])\n"
     ]
    }
   ],
   "source": [
    "print(Emp.keys())"
   ]
  },
  {
   "cell_type": "code",
   "execution_count": 11,
   "id": "8a4e9538",
   "metadata": {},
   "outputs": [
    {
     "name": "stdout",
     "output_type": "stream",
     "text": [
      "dict_values([[10, 20, 30], ['arya', 'chetana', 'yami'], ['fy', 'sy', 'ty']])\n"
     ]
    }
   ],
   "source": [
    "print(d.values())"
   ]
  },
  {
   "cell_type": "code",
   "execution_count": 12,
   "id": "8ff50437",
   "metadata": {},
   "outputs": [
    {
     "name": "stdout",
     "output_type": "stream",
     "text": [
      "['arya', 'chetana', 'yami']\n"
     ]
    }
   ],
   "source": [
    "print(d[\"name\"])"
   ]
  },
  {
   "cell_type": "code",
   "execution_count": 14,
   "id": "87f039c9",
   "metadata": {},
   "outputs": [
    {
     "name": "stdout",
     "output_type": "stream",
     "text": [
      "[10, 20, 30]\n",
      "['arya', 'chetana', 'yami']\n",
      "['fy', 'sy', 'ty']\n"
     ]
    }
   ],
   "source": [
    "for i in d.values():\n",
    "    print(i)"
   ]
  },
  {
   "cell_type": "code",
   "execution_count": 15,
   "id": "366dcfe6",
   "metadata": {},
   "outputs": [
    {
     "name": "stdout",
     "output_type": "stream",
     "text": [
      "rollno\n",
      "name\n",
      "class\n"
     ]
    }
   ],
   "source": [
    "for i in d:\n",
    "    print(i)"
   ]
  },
  {
   "cell_type": "code",
   "execution_count": 18,
   "id": "3dccff9a",
   "metadata": {},
   "outputs": [
    {
     "name": "stdout",
     "output_type": "stream",
     "text": [
      "10\n",
      "20\n",
      "30\n",
      "arya\n",
      "chetana\n",
      "yami\n",
      "fy\n",
      "sy\n",
      "ty\n"
     ]
    }
   ],
   "source": [
    "for i in d.values():\n",
    "    for j in i:\n",
    "        print(j)"
   ]
  },
  {
   "cell_type": "code",
   "execution_count": 19,
   "id": "c32d138b",
   "metadata": {},
   "outputs": [
    {
     "name": "stdout",
     "output_type": "stream",
     "text": [
      "{'rollno': [10, 20, 30], 'name': 'Abc', 'class': ['fy', 'sy', 'ty']}\n"
     ]
    }
   ],
   "source": [
    "d[\"name\"]=\"Abc\"\n",
    "print(d)"
   ]
  },
  {
   "cell_type": "code",
   "execution_count": 20,
   "id": "2effb9d9",
   "metadata": {},
   "outputs": [
    {
     "name": "stdout",
     "output_type": "stream",
     "text": [
      "{'rollno': [10, 20, 30], 'class': ['fy', 'sy', 'ty']}\n"
     ]
    }
   ],
   "source": [
    "d.pop(\"name\")\n",
    "print(d)"
   ]
  },
  {
   "cell_type": "code",
   "execution_count": 22,
   "id": "78e2c5a1",
   "metadata": {},
   "outputs": [
    {
     "name": "stdout",
     "output_type": "stream",
     "text": [
      "rollno [10, 20, 30]\n",
      "class ['fy', 'sy', 'ty']\n"
     ]
    }
   ],
   "source": [
    "for i in d:\n",
    "    print(i,d[i])"
   ]
  },
  {
   "cell_type": "code",
   "execution_count": 23,
   "id": "5e3f99be",
   "metadata": {},
   "outputs": [
    {
     "name": "stdout",
     "output_type": "stream",
     "text": [
      "rollno [10, 20, 30]\n",
      "class ['fy', 'sy', 'ty']\n"
     ]
    }
   ],
   "source": [
    "for key,value in d.items():\n",
    "    print(key,value)"
   ]
  },
  {
   "cell_type": "code",
   "execution_count": 24,
   "id": "31403256",
   "metadata": {},
   "outputs": [
    {
     "name": "stdout",
     "output_type": "stream",
     "text": [
      "Id 1\n",
      "Name abc\n",
      "salary 5000\n"
     ]
    }
   ],
   "source": [
    "for key,value in Emp.items():\n",
    "    print(key,value)"
   ]
  },
  {
   "cell_type": "code",
   "execution_count": 25,
   "id": "2bb8c50a",
   "metadata": {},
   "outputs": [
    {
     "name": "stdout",
     "output_type": "stream",
     "text": [
      "{'Id': 1, 'Name': 'abc', 'salary': 5000}\n"
     ]
    }
   ],
   "source": [
    "s1=Emp.copy()\n",
    "print(s1)"
   ]
  },
  {
   "cell_type": "code",
   "execution_count": 26,
   "id": "25786006",
   "metadata": {},
   "outputs": [
    {
     "name": "stdout",
     "output_type": "stream",
     "text": [
      "{'rollno': [10, 20, 30], 'class': ['fy', 'sy', 'ty']}\n"
     ]
    }
   ],
   "source": [
    "s2=dict(d)\n",
    "print(s2)"
   ]
  },
  {
   "cell_type": "code",
   "execution_count": null,
   "id": "236c68fe",
   "metadata": {},
   "outputs": [],
   "source": []
  }
 ],
 "metadata": {
  "kernelspec": {
   "display_name": "Python 3 (ipykernel)",
   "language": "python",
   "name": "python3"
  },
  "language_info": {
   "codemirror_mode": {
    "name": "ipython",
    "version": 3
   },
   "file_extension": ".py",
   "mimetype": "text/x-python",
   "name": "python",
   "nbconvert_exporter": "python",
   "pygments_lexer": "ipython3",
   "version": "3.9.12"
  }
 },
 "nbformat": 4,
 "nbformat_minor": 5
}
