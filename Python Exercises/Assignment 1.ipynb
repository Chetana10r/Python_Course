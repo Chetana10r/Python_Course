{
 "cells": [
  {
   "cell_type": "code",
   "execution_count": 1,
   "id": "247bc9e9",
   "metadata": {},
   "outputs": [],
   "source": [
    "#Assignment1:String,List,Tuple and Dictionary\n"
   ]
  },
  {
   "cell_type": "code",
   "execution_count": 2,
   "id": "2a80779a",
   "metadata": {},
   "outputs": [
    {
     "name": "stdout",
     "output_type": "stream",
     "text": [
      "{}\n"
     ]
    }
   ],
   "source": [
    "#1.Count the occurences of each word in a given sentence.\n",
    "#Input:the quick brown fox jumps over the lazy dog.\n",
    "#output:{'the':2,'jumps':1,'brown':1,'lazy':1,'fox':1,'over':1,'quick':1,'dog':1}\n",
    "\n",
    "sentence=input(\"Enter the sentence:\")\n",
    "words=sentence.split()\n",
    "\n",
    "a={}\n",
    "\n",
    "for i in words:\n",
    "    if i in a:\n",
    "        a[i] += 1\n",
    "    else:\n",
    "        a[i] = 1\n",
    "        \n",
    "print(a)\n",
    "\n"
   ]
  },
  {
   "cell_type": "code",
   "execution_count": 3,
   "id": "a0991eb1",
   "metadata": {},
   "outputs": [
    {
     "name": "stdout",
     "output_type": "stream",
     "text": [
      "1333800\n"
     ]
    }
   ],
   "source": [
    "#2.Write a python program to multiply all the items in a dictionary.\n",
    "#Input:my dict={'data1':100,'data2':54,'data3':247}\n",
    "#Output:1333800\n",
    "\n",
    "dict={'data1':100,'data2':54,'data3':247}\n",
    "\n",
    "multiply=1\n",
    "\n",
    "for i in dict.values():\n",
    "    multiply *= i\n",
    "    \n",
    "print(multiply)"
   ]
  },
  {
   "cell_type": "code",
   "execution_count": 4,
   "id": "0a9bfb66",
   "metadata": {},
   "outputs": [
    {
     "name": "stdout",
     "output_type": "stream",
     "text": [
      "[3, 5, 7]\n"
     ]
    }
   ],
   "source": [
    "#3.Write a python program to compute the sum of all the elements of each tuple stored inside a list of tuples.\n",
    "#input:[(1,2),(2,3),(3,4)]\n",
    "#output:[3,5,7]\n",
    "\n",
    "tuple=[(1,2),(2,3),(3,4)]\n",
    "\n",
    "sums=[]\n",
    "\n",
    "for i in tuple:\n",
    "    sums.append(sum(i))\n",
    "    \n",
    "print(sums)\n"
   ]
  },
  {
   "cell_type": "code",
   "execution_count": 5,
   "id": "18830422",
   "metadata": {},
   "outputs": [
    {
     "name": "stdout",
     "output_type": "stream",
     "text": [
      "['Green', 'White']\n"
     ]
    }
   ],
   "source": [
    "#4.write a python program to find common items in two lists.\n",
    "#Input:list1:[\"Red\",\"Green\",\"Orange\",\"White\"]\n",
    "#list2:[\"Black\",\"Green\",\"White\",\"Pink\"]\n",
    "#output;['Green', 'White']\n",
    "    \n",
    "list1=[\"Red\",\"Green\",\"Orange\",\"White\"]\n",
    "list2=[\"Black\",\"Green\",\"White\",\"Pink\"]\n",
    "\n",
    "set1=set(list1)\n",
    "set2=set(list2)\n",
    "    \n",
    "Common_items=set1.intersection(set2)\n",
    "\n",
    "print(list(Common_items))\n",
    " "
   ]
  },
  {
   "cell_type": "code",
   "execution_count": null,
   "id": "1c775028",
   "metadata": {},
   "outputs": [],
   "source": []
  }
 ],
 "metadata": {
  "kernelspec": {
   "display_name": "venv",
   "language": "python",
   "name": "python3"
  },
  "language_info": {
   "codemirror_mode": {
    "name": "ipython",
    "version": 3
   },
   "file_extension": ".py",
   "mimetype": "text/x-python",
   "name": "python",
   "nbconvert_exporter": "python",
   "pygments_lexer": "ipython3",
   "version": "3.13.1"
  }
 },
 "nbformat": 4,
 "nbformat_minor": 5
}
