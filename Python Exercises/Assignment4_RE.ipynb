{
 "cells": [
  {
   "cell_type": "code",
   "execution_count": 1,
   "id": "305de93c",
   "metadata": {},
   "outputs": [
    {
     "name": "stdout",
     "output_type": "stream",
     "text": [
      "['W', 'e', 'l', 'c', 'o', 'm', 'e', '2', 'p', 'y', 't', 'h', 'o', 'n', 'p', 'r', 'o', 'g', 'r', 'a', 'm', 'm', 'i', 'n', 'g', 'w', 'h', 'e', 'r', 'e', 'w', 'e', 'w', 'i', 'l', 'l', 'l', 'e', 'a', 'r', 'n', 'a', 'l', 'l', 't', 'h', 'e', 'p', 'y', 't', 'h', 'o', 'n', 'c', 'o', 'm', 'm', 'a', 'n', 'd', 's', 'f', 'r', 'o', 'm', '1', 't', 'o', '1', '0', '0']\n",
      "Strings are present in a-z,A-Z and 0-9\n"
     ]
    }
   ],
   "source": [
    "#1 Write a python program to check that a string contains only the characters a-z,A-Z and 0-9.\n",
    "\n",
    "import re\n",
    "\n",
    "str1=\"Welcome 2 python programming where we will learn all the python commands from 1 to 100.\"\n",
    "res=re.findall(\"[a-zA-Z0-9]\",str1)\n",
    "print(res)\n",
    "\n",
    "if res==[]:\n",
    "    print(\"Strings are not present in a-z,A-Z and 0-9\")\n",
    "else:\n",
    "    print(\"Strings are present in a-z,A-Z and 0-9\")"
   ]
  },
  {
   "cell_type": "code",
   "execution_count": 2,
   "id": "82a7cbfe",
   "metadata": {},
   "outputs": [
    {
     "name": "stdout",
     "output_type": "stream",
     "text": [
      "None\n",
      "No match\n"
     ]
    }
   ],
   "source": [
    "#2.Write a python program that matches a string that has an a followed by one or more b's.Accept the string from user.\n",
    "\n",
    "import re\n",
    "\n",
    "pattern='ab+'\n",
    "reobj=re.compile(pattern)\n",
    "str2=input(\"Enter the string: \")\n",
    "x=reobj.search(str2)\n",
    "print(x)\n",
    "\n",
    "if x:\n",
    "    print(\"Yes,there is atleast one match\")\n",
    "else:\n",
    "    print(\"No match\")"
   ]
  },
  {
   "cell_type": "code",
   "execution_count": 3,
   "id": "448925bc",
   "metadata": {},
   "outputs": [
    {
     "name": "stdout",
     "output_type": "stream",
     "text": [
      "<re.Match object; span=(16, 19), match='fox'>\n",
      "<re.Match object; span=(40, 43), match='dog'>\n",
      "None\n"
     ]
    }
   ],
   "source": [
    "#3.Write a python program to search some literals strings in a string.Go to the editor sample text:\n",
    "#'The quick brown fox jumps over the lazy dog' 'searched words :'fox','dog','horse'\n",
    "\n",
    "import re\n",
    "\n",
    "str3='The quick brown fox jumps over the lazy dog'\n",
    "x=re.search(\"fox\",str3)\n",
    "print(x)\n",
    "\n",
    "y=re.search(\"dog\",str3)\n",
    "print(y)\n",
    "\n",
    "z=re.search(\"horse\",str3)\n",
    "print(z)"
   ]
  },
  {
   "cell_type": "code",
   "execution_count": null,
   "id": "371ec087",
   "metadata": {},
   "outputs": [],
   "source": []
  }
 ],
 "metadata": {
  "kernelspec": {
   "display_name": "venv",
   "language": "python",
   "name": "python3"
  },
  "language_info": {
   "codemirror_mode": {
    "name": "ipython",
    "version": 3
   },
   "file_extension": ".py",
   "mimetype": "text/x-python",
   "name": "python",
   "nbconvert_exporter": "python",
   "pygments_lexer": "ipython3",
   "version": "3.13.1"
  }
 },
 "nbformat": 4,
 "nbformat_minor": 5
}
