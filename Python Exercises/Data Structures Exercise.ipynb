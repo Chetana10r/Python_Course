{
 "cells": [
  {
   "cell_type": "code",
   "execution_count": 1,
   "id": "0ea166d2",
   "metadata": {},
   "outputs": [
    {
     "name": "stdout",
     "output_type": "stream",
     "text": [
      "{1: 10, 2: 20, 3: 30, 4: 40, 5: 50, 6: 60}\n"
     ]
    }
   ],
   "source": [
    "#1.Write a python script to concatenate the following dictinories to create a new one.\n",
    "\n",
    "\n",
    "dict1={1:10,2:20}\n",
    "dict2={3:30,4:40}\n",
    "dict3={5:50,6:60}\n",
    "\n",
    "dic=dict1|dict2|dict3\n",
    "print(dic)"
   ]
  },
  {
   "cell_type": "code",
   "execution_count": 5,
   "id": "07ee7ebd",
   "metadata": {},
   "outputs": [
    {
     "name": "stdout",
     "output_type": "stream",
     "text": [
      "Enter the number5\n",
      "{1: 1, 2: 4, 3: 9, 4: 16, 5: 25}\n"
     ]
    }
   ],
   "source": [
    "#2.Write a python script to generate and print a dictionary that contains a number(between 1 and n)in the form (x,x*x)\n",
    "\n",
    "n=int(input(\"Enter the number\"))\n",
    "d=dict()\n",
    "\n",
    "for x in range(1,n+1):\n",
    "    d[x]=x*x\n",
    "    \n",
    "print(d)"
   ]
  },
  {
   "cell_type": "code",
   "execution_count": 8,
   "id": "ffd8bc3b",
   "metadata": {},
   "outputs": [
    {
     "name": "stdout",
     "output_type": "stream",
     "text": [
      "Maximum Value:  349\n",
      "Minimum Value:  4656\n"
     ]
    }
   ],
   "source": [
    "#3.Write a python program to get the maximum and minimum values of a dictionary.\n",
    "\n",
    "d={'x':500,'y':4656,'z':349,'a':890}\n",
    "value=d.values()\n",
    "\n",
    "print(\"Maximum Value: \",min(value))\n",
    "print(\"Minimum Value: \",max(value))"
   ]
  },
  {
   "cell_type": "code",
   "execution_count": 11,
   "id": "5fe17868",
   "metadata": {},
   "outputs": [
    {
     "data": {
      "text/plain": [
       "[6, 12, 18, 4, 12, 20, 28]"
      ]
     },
     "execution_count": 11,
     "metadata": {},
     "output_type": "execute_result"
    }
   ],
   "source": [
    "#4.Given two lists l1 and l2,write a program to create a third list l3 by picking an odd-index element from list l1 and even \n",
    "#index elements from the list l2.\n",
    "\n",
    "l1=[3,6,9,12,15,18,21]\n",
    "l2=[4,8,12,16,20,24,28]\n",
    "\n",
    "odd=l1[1::2]\n",
    "even=l2[0::2]\n",
    "\n",
    "l3=odd+even\n",
    "l3"
   ]
  },
  {
   "cell_type": "code",
   "execution_count": 12,
   "id": "1db3c4e7",
   "metadata": {},
   "outputs": [
    {
     "data": {
      "text/plain": [
       "[1, 2, 5, 3, 4, 6, 7, 8, 5]"
      ]
     },
     "execution_count": 12,
     "metadata": {},
     "output_type": "execute_result"
    }
   ],
   "source": [
    "#5.Write a program to remove the item present at index 4 and add it to the 2Nd position and at the end of the list.\n",
    "\n",
    "list=[1,2,3,4,5,6,7,8]\n",
    "\n",
    "l1=list.pop(4)\n",
    "list.insert(2,l1)\n",
    "list.append(l1)\n",
    "\n",
    "list\n"
   ]
  },
  {
   "cell_type": "code",
   "execution_count": 15,
   "id": "b0b17e1c",
   "metadata": {},
   "outputs": [
    {
     "name": "stdout",
     "output_type": "stream",
     "text": [
      "[11, 45, 8, 23, 14, 12, 78, 45, 89]\n",
      "[11, 45, 8]\n",
      "[23, 14, 12]\n",
      "[78, 45, 89]\n",
      "[8, 45, 11]\n",
      "[12, 14, 23]\n",
      "[89, 45, 78]\n"
     ]
    }
   ],
   "source": [
    "#6.Slice list into 3 equal chunks and reverse ecah chunk.\n",
    "\n",
    "list=[11,45,8,23,14,12,78,45,89]\n",
    "\n",
    "print(list)\n",
    "\n",
    "chunk1=list[0:3]\n",
    "chunk2=list[3:6]\n",
    "chunk3=list[6:10]\n",
    "\n",
    "print(chunk1)\n",
    "print(chunk2)\n",
    "print(chunk3)\n",
    "\n",
    "chunk1.reverse()\n",
    "chunk2.reverse()\n",
    "chunk3.reverse()\n",
    "\n",
    "print(chunk1)\n",
    "print(chunk2)\n",
    "print(chunk3)\n"
   ]
  },
  {
   "cell_type": "code",
   "execution_count": 5,
   "id": "089926a5",
   "metadata": {},
   "outputs": [
    {
     "name": "stdin",
     "output_type": "stream",
     "text": [
      "enter the number:  6\n"
     ]
    },
    {
     "name": "stdout",
     "output_type": "stream",
     "text": [
      "{1: 1, 2: 4, 3: 9, 4: 16, 5: 25, 6: 36}\n"
     ]
    }
   ],
   "source": [
    "#2.Write a python script to generate and print a dictionary that contains a number(between 1 and n)in the form (x,x*x)\n",
    "\n",
    "n=int(input(\"enter the number: \"))\n",
    "d=dict()\n",
    "\n",
    "for x in range(1,n+1):\n",
    "    d[x]=x*x\n",
    "\n",
    "print(d)\n",
    "    "
   ]
  },
  {
   "cell_type": "code",
   "execution_count": 7,
   "id": "42de991d-975d-4189-bc3a-2470c32b38eb",
   "metadata": {},
   "outputs": [],
   "source": [
    "#5.Write a program to remove the item present at index 4 and add it to the 2Nd position and at the end of the list."
   ]
  },
  {
   "cell_type": "code",
   "execution_count": 16,
   "id": "b2becc49-32f1-4f51-ba39-fc1dcd4d3d02",
   "metadata": {},
   "outputs": [
    {
     "name": "stdout",
     "output_type": "stream",
     "text": [
      "[1, 5, 2, 3, 4, 6, 7, 8, 5]\n"
     ]
    }
   ],
   "source": [
    "list=[1,2,3,4,5,6,7,8]\n",
    "\n",
    "l1=list.pop(4)\n",
    "list.insert(1,l1)\n",
    "list.append(l1)\n",
    "\n",
    "print(list)"
   ]
  },
  {
   "cell_type": "code",
   "execution_count": 20,
   "id": "be39a2f4-67be-4b4d-9607-9d93c1aea03b",
   "metadata": {},
   "outputs": [
    {
     "name": "stdout",
     "output_type": "stream",
     "text": [
      "[11, 45, 8, 23, 14, 12, 78, 45, 89]\n",
      "[11, 45, 8]\n",
      "[23, 14, 12]\n",
      "[78, 45, 89]\n",
      "[8, 45, 11]\n",
      "[12, 14, 23]\n",
      "[89, 45, 78]\n"
     ]
    }
   ],
   "source": [
    "\n",
    "list=[11,45,8,23,14,12,78,45,89]\n",
    "\n",
    "print(list)\n",
    "\n",
    "chunk1=list[0:3]\n",
    "chunk2=list[3:6]\n",
    "chunk3=list[6:9]\n",
    "\n",
    "print(chunk1)\n",
    "print(chunk2)\n",
    "print(chunk3)\n",
    "\n",
    "\n",
    "chunk1.reverse()\n",
    "chunk2.reverse()\n",
    "chunk3.reverse()\n",
    "\n",
    "\n",
    "print(chunk1)\n",
    "print(chunk2)\n",
    "print(chunk3)\n"
   ]
  },
  {
   "cell_type": "code",
   "execution_count": null,
   "id": "5031a2c1-05ae-40f5-b353-7fb4004604f7",
   "metadata": {},
   "outputs": [],
   "source": []
  }
 ],
 "metadata": {
  "kernelspec": {
   "display_name": "Python 3 (ipykernel)",
   "language": "python",
   "name": "python3"
  },
  "language_info": {
   "codemirror_mode": {
    "name": "ipython",
    "version": 3
   },
   "file_extension": ".py",
   "mimetype": "text/x-python",
   "name": "python",
   "nbconvert_exporter": "python",
   "pygments_lexer": "ipython3",
   "version": "3.12.7"
  }
 },
 "nbformat": 4,
 "nbformat_minor": 5
}
