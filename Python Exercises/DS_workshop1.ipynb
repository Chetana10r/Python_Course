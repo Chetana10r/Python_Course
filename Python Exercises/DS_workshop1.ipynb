{
 "cells": [
  {
   "cell_type": "code",
   "execution_count": 7,
   "id": "d070e2e4-0e66-47d4-b8fb-d8c7187e690c",
   "metadata": {},
   "outputs": [
    {
     "name": "stdout",
     "output_type": "stream",
     "text": [
      "shape: Rectangle\n",
      "color: red\n"
     ]
    }
   ],
   "source": [
    "class object:\n",
    "    def __init__(self,shape):\n",
    "        self.shape=shape\n",
    "\n",
    "class table(object):\n",
    "    def __init__(self,shape,color):\n",
    "        super().__init__(shape)\n",
    "        self.color=color\n",
    "\n",
    "    def disp(self):\n",
    "        print(\"shape:\",self.shape)\n",
    "        print(\"color:\",self.color)\n",
    "\n",
    "\n",
    "A1=table(\"Rectangle\",\"red\")\n",
    "A1.disp()\n",
    "        \n"
   ]
  },
  {
   "cell_type": "code",
   "execution_count": 23,
   "id": "e02d94d4-3d0c-46fc-8fa4-0889984bde2a",
   "metadata": {},
   "outputs": [
    {
     "name": "stdout",
     "output_type": "stream",
     "text": [
      "{'a': 1, 'b': 5, 'c': 4}\n"
     ]
    }
   ],
   "source": [
    "def merge_dicts(d1,d2):\n",
    "    for key in d2:\n",
    "        d1[key]=d1.get(key,0)+d2[key]\n",
    "    return d1\n",
    "\n",
    "d1={\"a\":1,\"b\":2}\n",
    "d2={\"b\":3,\"c\":4}\n",
    "\n",
    "result=merge_dicts(d1,d2)\n",
    "print(result)"
   ]
  },
  {
   "cell_type": "code",
   "execution_count": null,
   "id": "68e2c5a9-052c-4aaa-8fce-978d0b8fcf22",
   "metadata": {},
   "outputs": [],
   "source": []
  }
 ],
 "metadata": {
  "kernelspec": {
   "display_name": "Python 3 (ipykernel)",
   "language": "python",
   "name": "python3"
  },
  "language_info": {
   "codemirror_mode": {
    "name": "ipython",
    "version": 3
   },
   "file_extension": ".py",
   "mimetype": "text/x-python",
   "name": "python",
   "nbconvert_exporter": "python",
   "pygments_lexer": "ipython3",
   "version": "3.12.7"
  }
 },
 "nbformat": 4,
 "nbformat_minor": 5
}
