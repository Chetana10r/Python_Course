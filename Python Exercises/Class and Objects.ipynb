{
 "cells": [
  {
   "cell_type": "code",
   "execution_count": 26,
   "id": "3d3ff98a",
   "metadata": {},
   "outputs": [
    {
     "name": "stdout",
     "output_type": "stream",
     "text": [
      "100\n",
      "chetana\n"
     ]
    }
   ],
   "source": [
    "#Class and Object\n",
    "\n",
    "class student:\n",
    "    rollno=100\n",
    "    name=\"chetana\"\n",
    "obj1=student()\n",
    "print(obj1.rollno)\n",
    "print(obj1.name)"
   ]
  },
  {
   "cell_type": "code",
   "execution_count": 27,
   "id": "c74a3ad6",
   "metadata": {},
   "outputs": [
    {
     "name": "stdout",
     "output_type": "stream",
     "text": [
      "100\n",
      "chetana\n"
     ]
    }
   ],
   "source": [
    "class student:\n",
    "    rollno=100\n",
    "    name=\"chetana\"\n",
    "    def disp(self):\n",
    "        print(self.rollno)\n",
    "        print(self.name)\n",
    "obj1=student()\n",
    "obj1.disp()"
   ]
  },
  {
   "cell_type": "code",
   "execution_count": 28,
   "id": "4306249d",
   "metadata": {},
   "outputs": [
    {
     "name": "stdout",
     "output_type": "stream",
     "text": [
      "Enter the rollno: 56\n",
      "Enter the name: hsj\n",
      "56\n",
      "hsj\n"
     ]
    }
   ],
   "source": [
    "class student:\n",
    "    def disp(self,rno,name):\n",
    "        self.rno=rno\n",
    "        self.name=name\n",
    "        print(self.rno)\n",
    "        print(self.name)\n",
    "        \n",
    "obj2=student()\n",
    "\n",
    "rno=int(input(\"Enter the rollno: \"))\n",
    "name=input(\"Enter the name: \")\n",
    "obj2.disp(rno,name)"
   ]
  },
  {
   "cell_type": "markdown",
   "id": "96396a51",
   "metadata": {},
   "source": []
  },
  {
   "cell_type": "code",
   "execution_count": 29,
   "id": "276d4f06",
   "metadata": {},
   "outputs": [
    {
     "name": "stdout",
     "output_type": "stream",
     "text": [
      "Employee no:  3 \n",
      "Employee name:  chetana \n",
      "Salary:  1000000\n"
     ]
    }
   ],
   "source": [
    "#Write a program to create a class employee accept employee no,name and salary from #user and pass it to the \n",
    "#function and display the details.\n",
    "\n",
    "class employee:\n",
    "    def display(self,emp_no,emp_name,salary):\n",
    "        self.emp_no=emp_no \n",
    "        self.emp_name=emp_name \n",
    "        self.salary=salary\n",
    "\n",
    "        print(\"Employee no: \",self.emp_no, \"\\nEmployee name: \",self.emp_name, \"\\nSalary: \",self.salary)\n",
    "        \n",
    "obj3=employee() \n",
    "obj3.display(3,\"chetana\",1000000)"
   ]
  },
  {
   "cell_type": "raw",
   "id": "86f09692",
   "metadata": {},
   "source": []
  },
  {
   "cell_type": "code",
   "execution_count": 49,
   "id": "2f1881d7",
   "metadata": {},
   "outputs": [
    {
     "name": "stdout",
     "output_type": "stream",
     "text": [
      "Enter the id:2\n",
      "Enter the name: ds\n",
      "Enter the price: 3\n",
      "Enter the quantity: 4\n",
      "Item Id:  2 \n",
      "Item name:  ds \n",
      "Price:  3 \n",
      "Quantity:  4 \n",
      "Total Price:  12\n"
     ]
    }
   ],
   "source": [
    "#Write a program create a class item and product having the members product_id,name,price and\n",
    "#quantity,write a function in class which will display the details of product along with total price.\n",
    "\n",
    "class item:\n",
    "    def disp(self,item_id,item_name,item_price,item_quantity):\n",
    "        self.item_id=item_id\n",
    "        self.item_name=item_name\n",
    "        self.item_price=item_price\n",
    "        self.item_quantity=item_quantity\n",
    "        total_price=item_price*item_quantity\n",
    "\n",
    "        print(\"Item Id: \",item_id,\"\\nItem name: \",item_name,\"\\nPrice: \",item_price,\"\\nQuantity: \",item_quantity,\"\\nTotal Price: \",total_price)\n",
    "    \n",
    "obj4=item()\n",
    "\n",
    "id=int(input(\"Enter the id:\"))\n",
    "name=input(\"Enter the name: \")\n",
    "price=int(input(\"Enter the price: \"))\n",
    "quantity=int(input(\"Enter the quantity: \"))\n",
    "\n",
    "obj4.disp(id,name,price,quantity)\n",
    "\n"
   ]
  },
  {
   "cell_type": "code",
   "execution_count": 44,
   "id": "531cdac9",
   "metadata": {},
   "outputs": [
    {
     "name": "stdout",
     "output_type": "stream",
     "text": [
      "Chetana\n",
      "20\n"
     ]
    }
   ],
   "source": [
    "#Constructor\n",
    "\n",
    "class student:\n",
    "    def __init__(self,name,age):\n",
    "        self.name=name\n",
    "        self.age=age\n",
    "        \n",
    "    def dis(self):\n",
    "        print(self.name)\n",
    "        print(self.age)\n",
    "            \n",
    "p1=student(\"Chetana\",20)\n",
    "p1.dis()\n",
    "        "
   ]
  },
  {
   "cell_type": "code",
   "execution_count": 51,
   "id": "b6f4c66e",
   "metadata": {},
   "outputs": [
    {
     "name": "stdout",
     "output_type": "stream",
     "text": [
      "Roll no:  101\n",
      "Name:  chetana\n",
      "Marks:  100\n"
     ]
    }
   ],
   "source": [
    "#SIngle Inheritance\n",
    "\n",
    "class student:\n",
    "    def accept(self,rollno,name):\n",
    "        self.rollno=rollno\n",
    "        self.name=name\n",
    "        \n",
    "class marks(student):\n",
    "    def marks(self,m):\n",
    "        self.m=m\n",
    "    def disp(self):\n",
    "        print(\"Roll no: \",self.rollno)\n",
    "        print(\"Name: \",self.name)\n",
    "        print(\"Marks: \",self.m)\n",
    "        \n",
    "obj1=marks()\n",
    "obj1.accept(101,\"chetana\")\n",
    "obj1.marks(100)\n",
    "obj1.disp()"
   ]
  },
  {
   "cell_type": "code",
   "execution_count": 62,
   "id": "bd270bd7",
   "metadata": {},
   "outputs": [
    {
     "name": "stdout",
     "output_type": "stream",
     "text": [
      "Product Id:  12\n",
      "Product name:  Pen\n",
      "Product Quantity:  12\n",
      "Product Price:  10\n",
      "Total Price:  120\n"
     ]
    }
   ],
   "source": [
    "#Write a program to create product class having the members product id and product name,\n",
    "#create a child class price from product having members quantity and price per items,calculate the price of a product \n",
    "# and display the whole information.\n",
    "\n",
    "class Product:\n",
    "    def details(self,pid,pname):\n",
    "        self.pid=pid\n",
    "        self.pname=pname\n",
    "        \n",
    "class Price(Product):\n",
    "    def info(self,quantity,price):\n",
    "        self.quantity=quantity\n",
    "        self.price=price\n",
    "    def disp(self):\n",
    "        total_price=self.quantity*self.price\n",
    "        print(\"Product Id: \",self.pid)\n",
    "        print(\"Product name: \",self.pname)\n",
    "        print(\"Product Quantity: \",self.quantity)\n",
    "        print(\"Product Price: \",self.price)\n",
    "        print(\"Total Price: \",total_price)\n",
    "        \n",
    "obj2=Price()\n",
    "obj2.details(12,\"Pen\")\n",
    "obj2.info(12,10)\n",
    "obj2.disp()\n",
    "        "
   ]
  },
  {
   "cell_type": "code",
   "execution_count": null,
   "id": "1bdf46f3",
   "metadata": {},
   "outputs": [],
   "source": []
  }
 ],
 "metadata": {
  "kernelspec": {
   "display_name": "Python 3 (ipykernel)",
   "language": "python",
   "name": "python3"
  },
  "language_info": {
   "codemirror_mode": {
    "name": "ipython",
    "version": 3
   },
   "file_extension": ".py",
   "mimetype": "text/x-python",
   "name": "python",
   "nbconvert_exporter": "python",
   "pygments_lexer": "ipython3",
   "version": "3.9.12"
  }
 },
 "nbformat": 4,
 "nbformat_minor": 5
}
