{
 "cells": [
  {
   "cell_type": "code",
   "execution_count": 3,
   "id": "6f718f32",
   "metadata": {},
   "outputs": [
    {
     "name": "stdout",
     "output_type": "stream",
     "text": [
      "{'a': 1, 'b': 2, 'c': 3}\n"
     ]
    }
   ],
   "source": [
    "#1.Convert two lists into a dictionary\n",
    "\n",
    "keys=[\"a\",\"b\",\"c\"]\n",
    "values=[1,2,3]\n",
    "d1={}\n",
    "\n",
    "j=0\n",
    "for i in keys:\n",
    "    d1[i]=values[j]\n",
    "    j+=1\n",
    "print(d1)"
   ]
  },
  {
   "cell_type": "code",
   "execution_count": 4,
   "id": "19d62267",
   "metadata": {},
   "outputs": [
    {
     "name": "stdout",
     "output_type": "stream",
     "text": [
      "{'Id': 1, 'Name': 'abc', 'price': 3245, 'salary': 7000}\n"
     ]
    }
   ],
   "source": [
    "#2.Merge two python dictionaries into one\n",
    "\n",
    "Emp1={\"Id\":1,\"Name\":\"abc\"}\n",
    "Emp2={\"price\":3245,\"salary\":7000}\n",
    "\n",
    "d3=Emp1|Emp2\n",
    "print(d3)"
   ]
  },
  {
   "cell_type": "code",
   "execution_count": 5,
   "id": "138090f5",
   "metadata": {},
   "outputs": [
    {
     "data": {
      "text/plain": [
       "3245"
      ]
     },
     "execution_count": 5,
     "metadata": {},
     "output_type": "execute_result"
    }
   ],
   "source": [
    "# 3.Print the value of key 'price' from the below dict\n",
    "\n",
    "d3['price']"
   ]
  },
  {
   "cell_type": "code",
   "execution_count": 6,
   "id": "60371924",
   "metadata": {},
   "outputs": [
    {
     "data": {
      "text/plain": [
       "{'apple': 7, 'banana': 7, 'orange': 7, 'watermelon': 7}"
      ]
     },
     "execution_count": 6,
     "metadata": {},
     "output_type": "execute_result"
    }
   ],
   "source": [
    "#4.Initialize dictionary with default values\n",
    "\n",
    "keys=['apple','banana','orange','watermelon']\n",
    "val=7\n",
    "d={}\n",
    "\n",
    "for i in keys:\n",
    "    d[i]=val\n",
    "d"
   ]
  },
  {
   "cell_type": "code",
   "execution_count": 7,
   "id": "02605fe8",
   "metadata": {},
   "outputs": [
    {
     "data": {
      "text/plain": [
       "{'apple': None, 'banana': None, 'orange': None, 'watermelon': None}"
      ]
     },
     "execution_count": 7,
     "metadata": {},
     "output_type": "execute_result"
    }
   ],
   "source": [
    "#5.Create a dictionary by extracting the keys from a given dictionary\n",
    "\n",
    "s={}\n",
    "for i in d.keys():\n",
    "    s[i]=None\n",
    "s"
   ]
  },
  {
   "cell_type": "code",
   "execution_count": 16,
   "id": "2fbacc28",
   "metadata": {},
   "outputs": [
    {
     "data": {
      "text/plain": [
       "{2: 'blue', 4: 'pink'}"
      ]
     },
     "execution_count": 16,
     "metadata": {},
     "output_type": "execute_result"
    }
   ],
   "source": [
    "#6.Delete a list of values from a dictionary\n",
    "\n",
    "dictt={1:'red',2:'blue',3:'yellow',4:'pink'}\n",
    "\n",
    "delete = [1,3]\n",
    "\n",
    "\n",
    "for key in delete:\n",
    "    dictt.pop(key, None)\n",
    "    \n",
    "dictt"
   ]
  },
  {
   "cell_type": "code",
   "execution_count": 14,
   "id": "4e6fda24",
   "metadata": {},
   "outputs": [
    {
     "name": "stdout",
     "output_type": "stream",
     "text": [
      "Exists\n"
     ]
    }
   ],
   "source": [
    "#7.Check if a value exists in a dictionary\n",
    "\n",
    "dict1={1:'red',2:'blue',3:'yellow'}\n",
    "\n",
    "if 'yellow' in dict1.values():\n",
    "    print(\"Exists\")\n",
    "else:\n",
    "    print(\"Not exists\")"
   ]
  },
  {
   "cell_type": "code",
   "execution_count": 15,
   "id": "fa8663d3",
   "metadata": {},
   "outputs": [
    {
     "name": "stdout",
     "output_type": "stream",
     "text": [
      "Key is: c\n"
     ]
    }
   ],
   "source": [
    "#8.Get the keys of a minimum value from following dictionary\n",
    "\n",
    "d={'a':17,'b':11,'c':3,'d':42}\n",
    "val=min(d.values())\n",
    "for i in d:\n",
    "    if d[i]==val:\n",
    "        print(\"Key is:\",i)"
   ]
  },
  {
   "cell_type": "code",
   "execution_count": null,
   "id": "953ef6d0",
   "metadata": {},
   "outputs": [],
   "source": []
  }
 ],
 "metadata": {
  "kernelspec": {
   "display_name": "Python 3 (ipykernel)",
   "language": "python",
   "name": "python3"
  },
  "language_info": {
   "codemirror_mode": {
    "name": "ipython",
    "version": 3
   },
   "file_extension": ".py",
   "mimetype": "text/x-python",
   "name": "python",
   "nbconvert_exporter": "python",
   "pygments_lexer": "ipython3",
   "version": "3.12.7"
  }
 },
 "nbformat": 4,
 "nbformat_minor": 5
}
