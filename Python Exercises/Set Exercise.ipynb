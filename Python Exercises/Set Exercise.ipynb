{
 "cells": [
  {
   "cell_type": "code",
   "execution_count": 22,
   "id": "c46dbf48",
   "metadata": {},
   "outputs": [
    {
     "name": "stdout",
     "output_type": "stream",
     "text": [
      "{1, 2, 3, 4, 5, 6, 7, 8, 9}\n"
     ]
    }
   ],
   "source": [
    "#1:Add a list of elements to a set\n",
    "\n",
    "\n",
    "a={1,2,3,4,5}\n",
    "b={6,7,8,9}\n",
    "\n",
    "d=a.union(b)\n",
    "print(d)\n"
   ]
  },
  {
   "cell_type": "code",
   "execution_count": 23,
   "id": "84e2b613",
   "metadata": {},
   "outputs": [
    {
     "name": "stdout",
     "output_type": "stream",
     "text": [
      "{1, 2, 3, 4}\n"
     ]
    }
   ],
   "source": [
    "#2.Return a new set of identical items frm two sets\n",
    "\n",
    "t1={1,2,3,24,235,232,23,4}\n",
    "t2={2,3,5,6,1,5,4,9}\n",
    "\n",
    "c=t1.intersection(t2)\n",
    "print(c)"
   ]
  },
  {
   "cell_type": "code",
   "execution_count": 24,
   "id": "08d5fb94",
   "metadata": {},
   "outputs": [
    {
     "name": "stdout",
     "output_type": "stream",
     "text": [
      "{5, 6, 232, 9, 235, 23, 24}\n"
     ]
    }
   ],
   "source": [
    "#3.Get only unique items from two sets\n",
    "\n",
    "d=t1.symmetric_difference(t2)\n",
    "print(d)\n"
   ]
  },
  {
   "cell_type": "code",
   "execution_count": 36,
   "id": "56fe84dd",
   "metadata": {},
   "outputs": [
    {
     "name": "stdout",
     "output_type": "stream",
     "text": [
      "{1, 2, 3, 4, 5, 6, 232, 9, 235, 23, 24}\n"
     ]
    }
   ],
   "source": [
    "#4.Update the first set with items that dont exist in the second set\n",
    "\n",
    "s=t1.union(t2)\n",
    "print(s)"
   ]
  },
  {
   "cell_type": "code",
   "execution_count": 26,
   "id": "fa93f907",
   "metadata": {},
   "outputs": [
    {
     "name": "stdout",
     "output_type": "stream",
     "text": [
      "{1, 2, 3, 4, 5, 6, 9, 23, 24, 232, 235}\n"
     ]
    }
   ],
   "source": [
    "#5.Return a set of elements present in set A or B, but not both.\n",
    "\n",
    "d=t1.symmetric_difference(t2)\n",
    "print(d)\n"
   ]
  },
  {
   "cell_type": "code",
   "execution_count": 33,
   "id": "d513832f",
   "metadata": {},
   "outputs": [
    {
     "name": "stdout",
     "output_type": "stream",
     "text": [
      "{2, 3, 4}\n"
     ]
    }
   ],
   "source": [
    "#6.Check if two sets have any elements in common.if yes,display the common elements\n",
    "\n",
    "a={1,2,3,4}\n",
    "b={3,4,2}\n",
    "\n",
    "c=a.intersection(b)\n",
    "print(c)"
   ]
  },
  {
   "cell_type": "code",
   "execution_count": 34,
   "id": "a24fdffe",
   "metadata": {},
   "outputs": [
    {
     "name": "stdout",
     "output_type": "stream",
     "text": [
      "{1, 2, 3, 4}\n",
      "{1}\n"
     ]
    }
   ],
   "source": [
    "#7.Update set1 by adding items from set2,except common items.\n",
    "\n",
    "x=a.union(b)\n",
    "print(x)\n",
    "\n",
    "z=x.difference(c)\n",
    "print(z)"
   ]
  },
  {
   "cell_type": "code",
   "execution_count": 35,
   "id": "d5bdf66b",
   "metadata": {},
   "outputs": [
    {
     "name": "stdout",
     "output_type": "stream",
     "text": [
      "{1, 2, 3, 4}\n"
     ]
    }
   ],
   "source": [
    "#8.Remove items from set1 that are not common to both set1 and set2.,\n",
    "\n",
    "y=a.intersection(x)\n",
    "print(y)"
   ]
  },
  {
   "cell_type": "code",
   "execution_count": null,
   "id": "75b81c1c",
   "metadata": {},
   "outputs": [],
   "source": []
  }
 ],
 "metadata": {
  "kernelspec": {
   "display_name": "Python 3 (ipykernel)",
   "language": "python",
   "name": "python3"
  },
  "language_info": {
   "codemirror_mode": {
    "name": "ipython",
    "version": 3
   },
   "file_extension": ".py",
   "mimetype": "text/x-python",
   "name": "python",
   "nbconvert_exporter": "python",
   "pygments_lexer": "ipython3",
   "version": "3.9.12"
  }
 },
 "nbformat": 4,
 "nbformat_minor": 5
}
