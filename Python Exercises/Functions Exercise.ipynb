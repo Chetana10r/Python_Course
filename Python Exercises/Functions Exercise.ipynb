{
 "cells": [
  {
   "cell_type": "code",
   "execution_count": 7,
   "id": "e1764f46",
   "metadata": {},
   "outputs": [
    {
     "name": "stdout",
     "output_type": "stream",
     "text": [
      "Enter the number: 5\n",
      "Factorial of  5 is 120\n"
     ]
    }
   ],
   "source": [
    "#1.Write a program to create a user defined function fact().Accept a number from the user and calculate facorial of it.\n",
    "\n",
    "def fact(n):\n",
    "    factorial=1\n",
    "    for i in range(1,n+1):\n",
    "        factorial *= i\n",
    "    return factorial\n",
    "num=int(input(\"Enter the number: \"))\n",
    "print(\"Factorial of \",num,\"is\",fact(num))"
   ]
  },
  {
   "cell_type": "code",
   "execution_count": 11,
   "id": "8a7a8855",
   "metadata": {},
   "outputs": [
    {
     "name": "stdout",
     "output_type": "stream",
     "text": [
      "Enter the number: 5\n",
      "5 * 1 = 5\n",
      "5 * 2 = 10\n",
      "5 * 3 = 15\n",
      "5 * 4 = 20\n",
      "5 * 5 = 25\n",
      "5 * 6 = 30\n",
      "5 * 7 = 35\n",
      "5 * 8 = 40\n",
      "5 * 9 = 45\n",
      "5 * 10 = 50\n"
     ]
    }
   ],
   "source": [
    "#2.Write a program to create user defined function table().Accept number from the user and calculate table of a number.#3\n",
    "\n",
    "def table(n):\n",
    "    for i in range(1,11):\n",
    "        print(n,\"*\",i,\"=\",n*i)\n",
    "\n",
    "num=int(input(\"Enter the number: \"))\n",
    "table(num)"
   ]
  },
  {
   "cell_type": "code",
   "execution_count": 22,
   "id": "ff30dbeb",
   "metadata": {},
   "outputs": [
    {
     "name": "stdout",
     "output_type": "stream",
     "text": [
      "5 is odd.\n",
      "0 is Even.\n"
     ]
    }
   ],
   "source": [
    "#3.Write a program to create a user defined function to display whether the entered number is even or not.Make use of\n",
    "#default argument if the number is not passed through the function.\n",
    "\n",
    "def check(num=0):\n",
    "    if num%2==0:\n",
    "        print(num,\"is Even.\")\n",
    "    else:\n",
    "        print(num,\"is odd.\")\n",
    "check(5)\n",
    "check()"
   ]
  },
  {
   "cell_type": "code",
   "execution_count": 39,
   "id": "65501470",
   "metadata": {},
   "outputs": [
    {
     "name": "stdout",
     "output_type": "stream",
     "text": [
      "Enter the item name: |pen\n",
      "Enter the quantity: 2\n",
      "Enter the price per item: 10\n",
      "\n",
      "Item: |pen \n",
      "Quantity: 2 \n",
      "Price per item: 10.0 \n",
      "\n",
      "Total price: 20.0\n"
     ]
    }
   ],
   "source": [
    "#4.Write a python program to create user defined function pass the information of an item(itemname,quantity,price).Calculate\n",
    "#the total price and display the result.\n",
    "\n",
    "def calculate(itemname,quantity,price):\n",
    "    total_price=quantity * price\n",
    "    print(\"\\nItem:\",itemname,\"\\nQuantity:\",quantity,\"\\nPrice per item:\",price,\"\\n\\nTotal price:\",total_price)\n",
    "    \n",
    "itemname=input(\"Enter the item name: \")\n",
    "quantity=int(input(\"Enter the quantity: \"))\n",
    "price=float(input(\"Enter the price per item: \"))\n",
    "\n",
    "calculate(itemname,quantity,price)\n"
   ]
  },
  {
   "cell_type": "code",
   "execution_count": 9,
   "id": "5ae9fee4",
   "metadata": {},
   "outputs": [
    {
     "name": "stdin",
     "output_type": "stream",
     "text": [
      "Enter the number: 5\n"
     ]
    },
    {
     "name": "stdout",
     "output_type": "stream",
     "text": [
      "120\n"
     ]
    }
   ],
   "source": [
    "def fact(n):\n",
    "    factorial=1\n",
    "    for i in range(1,n+1):\n",
    "        factorial *= i\n",
    "    return factorial\n",
    "\n",
    "n=int(input(\"Enter the number:\"))\n",
    "print(fact(n))"
   ]
  },
  {
   "cell_type": "code",
   "execution_count": 13,
   "id": "b4a14765-c57d-49e7-a07e-37b5413bf3f0",
   "metadata": {},
   "outputs": [
    {
     "name": "stdin",
     "output_type": "stream",
     "text": [
      "Enter the number: 5\n"
     ]
    },
    {
     "name": "stdout",
     "output_type": "stream",
     "text": [
      "5\n",
      "10\n",
      "15\n",
      "20\n",
      "25\n",
      "30\n",
      "35\n",
      "40\n",
      "45\n",
      "50\n"
     ]
    }
   ],
   "source": [
    "def table(n):\n",
    "    for i in range(1,11):\n",
    "        print(n*i)\n",
    "\n",
    "n=int(input(\"Enter the number:\"))\n",
    "table(n)"
   ]
  },
  {
   "cell_type": "code",
   "execution_count": 25,
   "id": "a06ac5f2-0a33-4a38-a77c-5050b337627e",
   "metadata": {},
   "outputs": [
    {
     "name": "stdin",
     "output_type": "stream",
     "text": [
      "Enter the number: 7\n"
     ]
    },
    {
     "name": "stdout",
     "output_type": "stream",
     "text": [
      "Odd\n"
     ]
    }
   ],
   "source": [
    "def check(num=0):\n",
    "    if num%2==0:\n",
    "        print(\"Even\")\n",
    "    else:\n",
    "        print(\"Odd\")\n",
    "num=int(input(\"Enter the number:\"))\n",
    "check(num)"
   ]
  },
  {
   "cell_type": "code",
   "execution_count": null,
   "id": "f6e93c29-b83d-4fae-827c-949f8d7d4963",
   "metadata": {},
   "outputs": [],
   "source": [
    "#4.Write a python program to create user defined function pass the information of an item(itemname,quantity,price).Calculate\n",
    "#the total price and display the result.\n",
    "\n",
    "def item(itemname,quantity,price):\n",
    "    total_price=quantity*price\n",
    "    statement= \"Itemname= {} \\n,Quantity= {} \\n,Price= {} \\n,Total price= {} \\n\"\n",
    "    print(statement.format(itemname,quantity,price,total_price))\n",
    "\n",
    "itemname=input(\"Itemname: \")\n",
    "quantity=input(\"Quantity: \")\n"
   ]
  }
 ],
 "metadata": {
  "kernelspec": {
   "display_name": "Python 3 (ipykernel)",
   "language": "python",
   "name": "python3"
  },
  "language_info": {
   "codemirror_mode": {
    "name": "ipython",
    "version": 3
   },
   "file_extension": ".py",
   "mimetype": "text/x-python",
   "name": "python",
   "nbconvert_exporter": "python",
   "pygments_lexer": "ipython3",
   "version": "3.12.7"
  }
 },
 "nbformat": 4,
 "nbformat_minor": 5
}
