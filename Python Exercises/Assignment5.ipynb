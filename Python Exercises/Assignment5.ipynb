{
 "cells": [
  {
   "cell_type": "markdown",
   "id": "250c9134-15f7-41b7-bcff-dc44cbb8c2d3",
   "metadata": {},
   "source": [
    "1) Write a Python program for the following –\n",
    "a) Display information about the database.\n",
    "b) List of all tables in the database"
   ]
  },
  {
   "cell_type": "code",
   "execution_count": 1,
   "id": "a822ac16-1ad9-4f45-8283-7caa6cce9de8",
   "metadata": {},
   "outputs": [
    {
     "name": "stdout",
     "output_type": "stream",
     "text": [
      "Requirement already satisfied: mysql-connector-python in c:\\users\\admin\\anaconda3\\lib\\site-packages (9.1.0)\n"
     ]
    }
   ],
   "source": [
    "!pip install mysql-connector-python"
   ]
  },
  {
   "cell_type": "code",
   "execution_count": 3,
   "id": "0af73c30-2ccd-4926-9cd9-a00d5b3935a3",
   "metadata": {},
   "outputs": [],
   "source": [
    "import mysql.connector"
   ]
  },
  {
   "cell_type": "code",
   "execution_count": 5,
   "id": "3bdd72c4-034d-406b-9368-777f2b2d2ea6",
   "metadata": {},
   "outputs": [],
   "source": [
    "mydb=mysql.connector.connect(host='localhost',user='root',password='fcp@123',database='chetana',use_pure=True)"
   ]
  },
  {
   "cell_type": "code",
   "execution_count": 6,
   "id": "7e5786a5-36c0-4b7f-981b-fc6ebb2c2123",
   "metadata": {},
   "outputs": [],
   "source": [
    "mycursor=mydb.cursor()"
   ]
  },
  {
   "cell_type": "code",
   "execution_count": 9,
   "id": "fd54837f-93a5-40cb-b424-9f759da489c9",
   "metadata": {},
   "outputs": [
    {
     "name": "stdout",
     "output_type": "stream",
     "text": [
      "List of databases in MySQL:\n",
      "chetana\n",
      "customer\n",
      "information_schema\n",
      "mysql\n",
      "performance_schema\n",
      "sakila\n",
      "sys\n",
      "world\n"
     ]
    }
   ],
   "source": [
    "mycursor.execute(\"SHOW DATABASES\")\n",
    "databases = mycursor.fetchall()  \n",
    "\n",
    "print(\"List of databases in MySQL:\")\n",
    "for x in databases:\n",
    "    print(x[0])\n",
    "\n"
   ]
  },
  {
   "cell_type": "code",
   "execution_count": 11,
   "id": "708d9bc5-98e5-4666-b73f-4a6db5fb3834",
   "metadata": {},
   "outputs": [
    {
     "name": "stdout",
     "output_type": "stream",
     "text": [
      "List of tables in MySQL:\n",
      "('account',)\n",
      "('animal',)\n",
      "('bill',)\n",
      "('branch',)\n",
      "('cafeteria',)\n",
      "('cat',)\n",
      "('customer',)\n",
      "('customer1',)\n",
      "('department',)\n",
      "('department1',)\n",
      "('doctor',)\n",
      "('doctor_patient',)\n",
      "('employee',)\n",
      "('employee_department',)\n",
      "('expense',)\n",
      "('investor',)\n",
      "('loan_application',)\n",
      "('menu',)\n",
      "('passenger',)\n",
      "('patient',)\n",
      "('person',)\n",
      "('project',)\n",
      "('room',)\n",
      "('salesman',)\n",
      "('ticket',)\n",
      "('train',)\n",
      "('train_pass',)\n",
      "('train_passenger',)\n",
      "('trip',)\n"
     ]
    }
   ],
   "source": [
    "mycursor.execute('show tables')\n",
    "\n",
    "print(\"List of tables in MySQL:\")\n",
    "for x in mycursor:\n",
    "    print(x)\n"
   ]
  },
  {
   "cell_type": "markdown",
   "id": "00084aa3-9c68-4f4e-82b1-a6a7653e0a92",
   "metadata": {},
   "source": [
    "2)Write a Python program to connect a database and create the following table within the database.\n",
    "Product (product_id, product_name, rate, quantity)"
   ]
  },
  {
   "cell_type": "code",
   "execution_count": 16,
   "id": "673c22a5-ebbe-47c2-8aff-faf86d42d461",
   "metadata": {},
   "outputs": [
    {
     "name": "stdout",
     "output_type": "stream",
     "text": [
      "List of tables after inserting product table:\n",
      "('account',)\n",
      "('animal',)\n",
      "('bill',)\n",
      "('branch',)\n",
      "('cafeteria',)\n",
      "('cat',)\n",
      "('customer',)\n",
      "('customer1',)\n",
      "('department',)\n",
      "('department1',)\n",
      "('doctor',)\n",
      "('doctor_patient',)\n",
      "('employee',)\n",
      "('employee_department',)\n",
      "('expense',)\n",
      "('investor',)\n",
      "('loan_application',)\n",
      "('menu',)\n",
      "('passenger',)\n",
      "('patient',)\n",
      "('person',)\n",
      "('product',)\n",
      "('project',)\n",
      "('room',)\n",
      "('salesman',)\n",
      "('ticket',)\n",
      "('train',)\n",
      "('train_pass',)\n",
      "('train_passenger',)\n",
      "('trip',)\n"
     ]
    }
   ],
   "source": [
    "import mysql.connector\n",
    "\n",
    "mydb1=mysql.connector.connect(host='localhost',user='root',password='fcp@123',database='chetana',use_pure=True)\n",
    "\n",
    "mycur=mydb1.cursor()\n",
    "\n",
    "mycur.execute(\"create table product(product_id int primary key,product_name varchar(25),rate int,quantity int)\")\n",
    "\n",
    "mycur.execute('show tables')\n",
    "\n",
    "print(\"List of tables after inserting product table:\")\n",
    "for x in mycur:\n",
    "    print(x)"
   ]
  },
  {
   "cell_type": "markdown",
   "id": "dc64a834-8360-41e4-a576-bd9ae6a20176",
   "metadata": {},
   "source": [
    "3)Write a Python program to insert 5 records in the Product table and display all the records\n"
   ]
  },
  {
   "cell_type": "code",
   "execution_count": 18,
   "id": "1ecf6813-eded-4edf-817f-3cfe87828f2d",
   "metadata": {},
   "outputs": [
    {
     "name": "stdout",
     "output_type": "stream",
     "text": [
      "\n",
      "Product Table Records:\n",
      "Product ID | Product Name | Rate | Quantity\n",
      "(1, 'pen', 23, 21)\n",
      "(2, 'book', 11, 10)\n",
      "(3, 'pencil', 45, 3)\n",
      "(4, 'mobile', 1300, 13)\n",
      "(5, 'eraser', 23, 12)\n"
     ]
    }
   ],
   "source": [
    "import mysql.connector\n",
    "\n",
    "mydb2=mysql.connector.connect(host='localhost',user='root',password='fcp@123',database='chetana',use_pure=True)\n",
    "\n",
    "cur=mydb2.cursor()\n",
    "\n",
    "cur.execute('''insert into product(product_id,product_name,rate,quantity) values (1,\"pen\",23,21),(2,\"book\",11,10),(3,\"pencil\",45,3),(4,\"mobile\",1300,13),(5,\"eraser\",23,12)''')\n",
    "\n",
    "mydb2.commit()\n",
    "\n",
    "cur.execute(\"select * from product;\") \n",
    "rows = cur.fetchall()\n",
    "\n",
    "if rows:\n",
    "    print(\"\\nProduct Table Records:\")\n",
    "    print(\"Product ID | Product Name | Rate | Quantity\")\n",
    "    for row in rows:\n",
    "        print(row)\n",
    "else:\n",
    "    print(\"\\nNo records found in the Product table.\")\n",
    "\n",
    "cur.close()\n",
    "mydb2.close()"
   ]
  },
  {
   "cell_type": "markdown",
   "id": "8f173a49-ac3a-4de4-b8aa-04dcfeba260e",
   "metadata": {},
   "source": [
    "4)Write a program to update the rate of the product with product_id 105 in the Product table."
   ]
  },
  {
   "cell_type": "code",
   "execution_count": 20,
   "id": "4f53d992-29c2-4048-a531-ed1fb9e45044",
   "metadata": {},
   "outputs": [
    {
     "name": "stdout",
     "output_type": "stream",
     "text": [
      "\n",
      "Product Table Records:\n",
      "Product ID | Product Name | Rate | Quantity\n",
      "(1, 'pen', 50, 21)\n",
      "(2, 'book', 11, 10)\n",
      "(3, 'pencil', 45, 3)\n",
      "(4, 'mobile', 1300, 13)\n",
      "(5, 'eraser', 23, 12)\n"
     ]
    }
   ],
   "source": [
    "import mysql.connector\n",
    "\n",
    "mydb3=mysql.connector.connect(host='localhost',user='root',password='fcp@123',database='chetana',use_pure=True)\n",
    "\n",
    "cur1=mydb3.cursor()\n",
    "\n",
    "cur1.execute(\"UPDATE product SET rate = 50 WHERE product_id = 1\")\n",
    "\n",
    "cur1.execute(\"SELECT * FROM product;\")\n",
    "rows = cur1.fetchall()\n",
    "\n",
    "if rows:\n",
    "    print(\"\\nProduct Table Records:\")\n",
    "    print(\"Product ID | Product Name | Rate | Quantity\")\n",
    "    for row in rows:\n",
    "        print(row)\n",
    "else:\n",
    "    print(\"\\nNo records found in the Product table.\")\n"
   ]
  }
 ],
 "metadata": {
  "kernelspec": {
   "display_name": "Python 3 (ipykernel)",
   "language": "python",
   "name": "python3"
  },
  "language_info": {
   "codemirror_mode": {
    "name": "ipython",
    "version": 3
   },
   "file_extension": ".py",
   "mimetype": "text/x-python",
   "name": "python",
   "nbconvert_exporter": "python",
   "pygments_lexer": "ipython3",
   "version": "3.12.7"
  }
 },
 "nbformat": 4,
 "nbformat_minor": 5
}
