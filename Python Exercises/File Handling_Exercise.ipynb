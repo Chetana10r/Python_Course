{
 "cells": [
  {
   "cell_type": "code",
   "execution_count": 53,
   "id": "a959ff62",
   "metadata": {},
   "outputs": [
    {
     "name": "stdout",
     "output_type": "stream",
     "text": [
      "abcdefghijklmnopqrfyhrtytry\n",
      "chetanapannalalranefergussoncollege\n",
      "kghdkfghkfhlewhjlrhuewyhrkjewkufyiewukfdjweru\n"
     ]
    }
   ],
   "source": [
    "#1.write a program that reads words.txt and prints only words with more than 20 characters.\n",
    "\n",
    "a=open(\"words.txt\",\"r\")\n",
    "words=a.read().split()\n",
    "for i in words:\n",
    "    if len(i) > 20:\n",
    "        print(i)"
   ]
  },
  {
   "cell_type": "code",
   "execution_count": 55,
   "id": "756c21b7",
   "metadata": {},
   "outputs": [
    {
     "name": "stdout",
     "output_type": "stream",
     "text": [
      "The number of lines which are not starting with T are:  3\n"
     ]
    }
   ],
   "source": [
    "#2.Write a function in python to count the number of lines from a text file \"story.txt\" which is not starting with an alphabet\"T\".\n",
    "\n",
    "a=open(\"story.txt\",\"w\")\n",
    "a.write(\"A boy is playing there.\\nThere is a playground.\\nAn aeroplane is in the sky.\\nThe sky is pink \\nAlphabets and numbers are allowed in the password.\")\n",
    "a.close()\n",
    "\n",
    "a=open(\"story.txt\",\"r\")\n",
    "lines=a.readlines()\n",
    "\n",
    "count=0\n",
    "for i in lines:\n",
    "    if i[0] != 'T':\n",
    "        count +=1\n",
    "        \n",
    "print(\"The number of lines which are not starting with T are: \",count)\n",
    "\n"
   ]
  },
  {
   "cell_type": "code",
   "execution_count": null,
   "id": "f5a72cc6",
   "metadata": {},
   "outputs": [],
   "source": []
  }
 ],
 "metadata": {
  "kernelspec": {
   "display_name": "Python 3 (ipykernel)",
   "language": "python",
   "name": "python3"
  },
  "language_info": {
   "codemirror_mode": {
    "name": "ipython",
    "version": 3
   },
   "file_extension": ".py",
   "mimetype": "text/x-python",
   "name": "python",
   "nbconvert_exporter": "python",
   "pygments_lexer": "ipython3",
   "version": "3.12.7"
  }
 },
 "nbformat": 4,
 "nbformat_minor": 5
}
