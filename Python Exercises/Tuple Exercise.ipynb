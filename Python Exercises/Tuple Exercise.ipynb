{
 "cells": [
  {
   "cell_type": "code",
   "execution_count": 2,
   "id": "b62ba3f9",
   "metadata": {},
   "outputs": [
    {
     "name": "stdout",
     "output_type": "stream",
     "text": [
      "(4, 3, 2, 1)\n"
     ]
    }
   ],
   "source": [
    "#Tuple\n",
    "\n",
    "#1.Reverse the tuple\n",
    "\n",
    "t1=(1,2,3,4)\n",
    "t=t1[::-1]\n",
    "print(t)"
   ]
  },
  {
   "cell_type": "code",
   "execution_count": 24,
   "id": "2c41e3d0",
   "metadata": {},
   "outputs": [
    {
     "name": "stdout",
     "output_type": "stream",
     "text": [
      "20 is at the index:  27\n"
     ]
    }
   ],
   "source": [
    "#2.Access value 20 from the tuple\n",
    "\n",
    "\n",
    "t5=(1,2,3,4,5,36,34,43,4,54,64,65,76,7,5,4,56,67,7,4,6,76,78,8,6,5,4,20,6,7,5)\n",
    "for i in t5:\n",
    "    if i==20:\n",
    "        print(\"20 is at the index: \", t5.index(i))"
   ]
  },
  {
   "cell_type": "code",
   "execution_count": 7,
   "id": "af1b14b2",
   "metadata": {},
   "outputs": [
    {
     "name": "stdout",
     "output_type": "stream",
     "text": [
      "50\n"
     ]
    }
   ],
   "source": [
    "#3.Create a tuple with single item 50\n",
    "\n",
    "t=(50)\n",
    "print(t)"
   ]
  },
  {
   "cell_type": "code",
   "execution_count": 9,
   "id": "b291512a",
   "metadata": {},
   "outputs": [
    {
     "name": "stdout",
     "output_type": "stream",
     "text": [
      "20\n"
     ]
    }
   ],
   "source": [
    "#4.unpack the tuple into 4 variables\n",
    "\n",
    "t1=(20,35,67,89)\n",
    "a,b,c,d=t1\n",
    "print(a)"
   ]
  },
  {
   "cell_type": "code",
   "execution_count": 11,
   "id": "47f13e43",
   "metadata": {},
   "outputs": [
    {
     "name": "stdout",
     "output_type": "stream",
     "text": [
      "(4, 6, 7)\n",
      "(1, 2, 3)\n"
     ]
    }
   ],
   "source": [
    "#5.Swap two tuples in python\n",
    "\n",
    "a=(1,2,3)\n",
    "b=(4,6,7)\n",
    "\n",
    "a,b=b,a\n",
    "\n",
    "print(a)\n",
    "print(b)"
   ]
  },
  {
   "cell_type": "code",
   "execution_count": 12,
   "id": "5c999589",
   "metadata": {},
   "outputs": [
    {
     "name": "stdout",
     "output_type": "stream",
     "text": [
      "(20, 30)\n"
     ]
    }
   ],
   "source": [
    " #6.Copy specific elements from one tuple to a new tuple\n",
    "    \n",
    "t4=(10,20,30,40,50)\n",
    "t=(t4[1],t4[2])\n",
    "print(t)"
   ]
  },
  {
   "cell_type": "code",
   "execution_count": 14,
   "id": "21e6b30b",
   "metadata": {},
   "outputs": [
    {
     "name": "stdout",
     "output_type": "stream",
     "text": [
      "(1, 2, 3, 3, 4, 5)\n"
     ]
    }
   ],
   "source": [
    "#7.Modify the tuple\n",
    "\n",
    "a=(1,2,3)\n",
    "b=(3,4,5)\n",
    "d=a+b\n",
    "print(d)"
   ]
  },
  {
   "cell_type": "code",
   "execution_count": 15,
   "id": "94c970d2",
   "metadata": {},
   "outputs": [
    {
     "name": "stdout",
     "output_type": "stream",
     "text": [
      "3\n"
     ]
    }
   ],
   "source": [
    "#9.Counts the number of occurrence of item 50 from a tuple\n",
    "\n",
    "d=(1,2,90,50,4,5,5,0,5,6,50,50,6,4)\n",
    "count=0\n",
    "\n",
    "for i in d:\n",
    "    if i==50:\n",
    "        count=count+1\n",
    "        \n",
    "print(count)\n",
    "    "
   ]
  },
  {
   "cell_type": "code",
   "execution_count": 1,
   "id": "5126d1da",
   "metadata": {},
   "outputs": [
    {
     "name": "stdout",
     "output_type": "stream",
     "text": [
      "True\n"
     ]
    }
   ],
   "source": [
    "#10.Check if all items in the tuple are the same\n",
    "\n",
    "a=(1,2,3)\n",
    "b=(1,2,3)\n",
    "\n",
    "\n",
    "if all(a) in b:\n",
    "    print(\"True\")\n",
    "else:\n",
    "    print(\"False\")"
   ]
  },
  {
   "cell_type": "code",
   "execution_count": null,
   "id": "c5fcc5b3",
   "metadata": {},
   "outputs": [],
   "source": []
  }
 ],
 "metadata": {
  "kernelspec": {
   "display_name": "Python 3 (ipykernel)",
   "language": "python",
   "name": "python3"
  },
  "language_info": {
   "codemirror_mode": {
    "name": "ipython",
    "version": 3
   },
   "file_extension": ".py",
   "mimetype": "text/x-python",
   "name": "python",
   "nbconvert_exporter": "python",
   "pygments_lexer": "ipython3",
   "version": "3.12.7"
  }
 },
 "nbformat": 4,
 "nbformat_minor": 5
}
